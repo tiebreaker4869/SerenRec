{
 "cells": [
  {
   "cell_type": "markdown",
   "metadata": {},
   "source": [
    "# MovieLens Data Preprocessing"
   ]
  },
  {
   "cell_type": "code",
   "execution_count": 213,
   "metadata": {},
   "outputs": [],
   "source": [
    "import pandas as pd\n",
    "import numpy as np"
   ]
  },
  {
   "cell_type": "code",
   "execution_count": 214,
   "metadata": {},
   "outputs": [],
   "source": [
    "interaction_path = 'serendipity-sac2018/training.csv'\n",
    "seren_path = 'serendipity-sac2018/answers.csv'\n",
    "meta_path = 'serendipity-sac2018/movies.csv'"
   ]
  },
  {
   "cell_type": "code",
   "execution_count": 215,
   "metadata": {},
   "outputs": [],
   "source": [
    "interactions_df = pd.read_csv(interaction_path)\n",
    "seren_df = pd.read_csv(seren_path)\n",
    "meta_df = pd.read_csv(meta_path)"
   ]
  },
  {
   "cell_type": "code",
   "execution_count": 216,
   "metadata": {},
   "outputs": [
    {
     "name": "stdout",
     "output_type": "stream",
     "text": [
      "原始交互数据: (9997850, 4)\n",
      "原始意外发现数据: (2150, 22)\n",
      "原始电影元数据: (49174, 8)\n"
     ]
    }
   ],
   "source": [
    "print(f\"原始交互数据: {interactions_df.shape}\")\n",
    "print(f\"原始意外发现数据: {seren_df.shape}\")\n",
    "print(f\"原始电影元数据: {meta_df.shape}\")"
   ]
  },
  {
   "cell_type": "code",
   "execution_count": 217,
   "metadata": {},
   "outputs": [
    {
     "name": "stdout",
     "output_type": "stream",
     "text": [
      "日期: 2017-06-01 00:00:00\n",
      "时间戳: 1496300400000.0\n"
     ]
    }
   ],
   "source": [
    "from datetime import datetime\n",
    "\n",
    "# 定义日期字符串和对应的格式\n",
    "date_str = \"2017-06-01 00:00:00\"\n",
    "date_format = \"%Y-%m-%d %H:%M:%S\"\n",
    "\n",
    "# 将字符串解析为 datetime 对象\n",
    "dt = datetime.strptime(date_str, date_format)\n",
    "\n",
    "timestamp = dt.timestamp() * 1000\n",
    "\n",
    "print(\"日期:\", dt)\n",
    "print(\"时间戳:\", timestamp)"
   ]
  },
  {
   "cell_type": "code",
   "execution_count": 218,
   "metadata": {},
   "outputs": [
    {
     "data": {
      "text/plain": [
       "1088697"
      ]
     },
     "execution_count": 218,
     "metadata": {},
     "output_type": "execute_result"
    }
   ],
   "source": [
    "interactions_df = interactions_df[interactions_df['timestamp'] > timestamp]\n",
    "len(interactions_df)"
   ]
  },
  {
   "cell_type": "code",
   "execution_count": 219,
   "metadata": {},
   "outputs": [
    {
     "name": "stdout",
     "output_type": "stream",
     "text": [
      "过滤后的交互数据: (1049659, 4)\n",
      "过滤后的用户数: 10657\n",
      "过滤后的电影数: 11541\n"
     ]
    }
   ],
   "source": [
    "user_counts = interactions_df['userId'].value_counts()\n",
    "valid_users = user_counts[user_counts >= 5].index\n",
    "item_counts = interactions_df['movieId'].value_counts()\n",
    "valid_items = item_counts[item_counts >= 5].index\n",
    "filtered_interactions = interactions_df[interactions_df['userId'].isin(valid_users) & interactions_df['movieId'].isin(valid_items)]\n",
    "print(f\"过滤后的交互数据: {filtered_interactions.shape}\")\n",
    "print(f\"过滤后的用户数: {len(valid_users)}\")\n",
    "print(f\"过滤后的电影数: {len(valid_items)}\")"
   ]
  },
  {
   "cell_type": "code",
   "execution_count": 220,
   "metadata": {},
   "outputs": [],
   "source": [
    "seren_users = seren_df['userId'].unique()\n",
    "all_users = np.union1d(valid_users, seren_users)"
   ]
  },
  {
   "cell_type": "code",
   "execution_count": 221,
   "metadata": {},
   "outputs": [
    {
     "name": "stdout",
     "output_type": "stream",
     "text": [
      "有 90 个用户在answers.csv中但在training.csv中交互少于5次\n"
     ]
    }
   ],
   "source": [
    "missing_users = np.setdiff1d(seren_users, valid_users)\n",
    "if len(missing_users) > 0:\n",
    "    print(f\"有 {len(missing_users)} 个用户在answers.csv中但在training.csv中交互少于5次\")\n",
    "    # 对于这些用户，我们仍然保留他们的所有交互记录\n",
    "    missing_interactions = interactions_df[interactions_df['userId'].isin(missing_users)]\n",
    "    filtered_interactions = pd.concat([filtered_interactions, missing_interactions])"
   ]
  },
  {
   "cell_type": "code",
   "execution_count": 222,
   "metadata": {},
   "outputs": [],
   "source": [
    "# 获取所有唯一的用户ID和电影ID\n",
    "unique_user_ids = filtered_interactions['userId'].unique()\n",
    "unique_movie_ids = filtered_interactions['movieId'].unique()"
   ]
  },
  {
   "cell_type": "code",
   "execution_count": 223,
   "metadata": {},
   "outputs": [],
   "source": [
    "# 创建映射字典\n",
    "user_id_map = {old_id: new_id for new_id, old_id in enumerate(unique_user_ids, 1)}\n",
    "movie_id_map = {old_id: new_id for new_id, old_id in enumerate(unique_movie_ids, 1)}"
   ]
  },
  {
   "cell_type": "code",
   "execution_count": 224,
   "metadata": {},
   "outputs": [],
   "source": [
    "# 应用映射到交互数据\n",
    "filtered_interactions_mapped = filtered_interactions.copy()\n",
    "filtered_interactions_mapped['user_id'] = filtered_interactions_mapped['userId'].map(user_id_map)\n",
    "filtered_interactions_mapped['item_id'] = filtered_interactions_mapped['movieId'].map(movie_id_map)"
   ]
  },
  {
   "cell_type": "code",
   "execution_count": 225,
   "metadata": {},
   "outputs": [],
   "source": [
    "# 应用映射到意外发现数据\n",
    "seren_df_mapped = seren_df.copy()\n",
    "seren_df_mapped['user_id'] = seren_df_mapped['userId'].map(user_id_map)\n",
    "seren_df_mapped['item_id'] = seren_df_mapped['movieId'].map(movie_id_map)"
   ]
  },
  {
   "cell_type": "code",
   "execution_count": 226,
   "metadata": {},
   "outputs": [],
   "source": [
    "# 应用映射到电影元数据\n",
    "meta_df_mapped = meta_df.copy()\n",
    "# 只保留出现在交互数据中的电影\n",
    "meta_df_mapped = meta_df_mapped[meta_df_mapped['movieId'].isin(unique_movie_ids)]\n",
    "meta_df_mapped['item_id'] = meta_df_mapped['movieId'].map(movie_id_map)"
   ]
  },
  {
   "cell_type": "code",
   "execution_count": 227,
   "metadata": {},
   "outputs": [
    {
     "name": "stdout",
     "output_type": "stream",
     "text": [
      "映射后的交互数据: (1049724, 6)\n",
      "映射后的用户数: 10684\n",
      "映射后的电影数: 11544\n"
     ]
    }
   ],
   "source": [
    "# 5. 按时间戳排序，为每个用户构建交互序列\n",
    "filtered_interactions_mapped = filtered_interactions_mapped.sort_values(['user_id', 'timestamp'])\n",
    "\n",
    "# 6. 检查映射后的数据\n",
    "print(f\"映射后的交互数据: {filtered_interactions_mapped.shape}\")\n",
    "print(f\"映射后的用户数: {len(filtered_interactions_mapped['user_id'].unique())}\")\n",
    "print(f\"映射后的电影数: {len(filtered_interactions_mapped['item_id'].unique())}\")"
   ]
  },
  {
   "cell_type": "code",
   "execution_count": 228,
   "metadata": {},
   "outputs": [
    {
     "name": "stdout",
     "output_type": "stream",
     "text": [
      "Density: 0.85%\n"
     ]
    }
   ],
   "source": [
    "density  = filtered_interactions_mapped.shape[0] / (len(filtered_interactions_mapped['user_id'].unique()) * len(filtered_interactions_mapped['item_id'].unique()))\n",
    "print(f\"Density: {density * 100:.2f}%\")"
   ]
  },
  {
   "cell_type": "code",
   "execution_count": 229,
   "metadata": {},
   "outputs": [
    {
     "name": "stdout",
     "output_type": "stream",
     "text": [
      "数据预处理完成!\n"
     ]
    }
   ],
   "source": [
    "# 7. 保存处理后的数据\n",
    "# 保存主要交互数据\n",
    "filtered_interactions_mapped[['user_id', 'item_id', 'rating', 'timestamp']].to_csv('ml/processed_interactions.csv', index=False)\n",
    "\n",
    "# 保存意外发现数据\n",
    "if not seren_df_mapped.empty:\n",
    "    # 确保映射的item_id不是NaN（某些电影可能在过滤后的交互中不存在）\n",
    "    seren_df_mapped = seren_df_mapped.dropna(subset=['user_id', 'item_id'])\n",
    "    seren_df_mapped[['user_id', 'item_id', 'rating', 'timestamp', 's1', 's2', 's3', 's4', 's5', 's6', 's7', 's8', 'q']].to_csv('ml/processed_serendipity.csv', index=False)\n",
    "\n",
    "# 保存电影元数据\n",
    "meta_df_mapped[['item_id', 'title', 'genres']].to_csv('ml/processed_movies.csv', index=False)\n",
    "\n",
    "print(\"数据预处理完成!\")"
   ]
  },
  {
   "cell_type": "code",
   "execution_count": 230,
   "metadata": {},
   "outputs": [],
   "source": [
    "# 5. 定义serendipity (方案4 - 相关但出乎意料)\n",
    "# s5: \"这部电影与我通常观看的电影不同\"\n",
    "# s6: \"我对MovieLens向我推荐这部电影感到惊讶\"\n",
    "# s7: \"我很高兴看了这部电影\"\n",
    "seren_df_mapped['serendipity'] = (\n",
    "    ((seren_df_mapped['s5'] >= 3) | (seren_df_mapped['s6'] >= 3)) & \n",
    "    (seren_df_mapped['s7'] >= 3)\n",
    ").astype(int)\n",
    "\n",
    "# 6. 输出为user-item-serendipity格式\n",
    "# 删除映射失败的记录(NaN)\n",
    "output_df = seren_df_mapped.dropna(subset=['user_id', 'item_id'])\n",
    "\n",
    "# 提取需要的列并排序\n",
    "serendipity_output = output_df[['user_id', 'item_id', 'serendipity']].copy()\n",
    "serendipity_output = serendipity_output.sort_values(['user_id', 'item_id'])\n",
    "\n",
    "# 确保user_id和item_id是整数\n",
    "serendipity_output['user_id'] = serendipity_output['user_id'].astype(int)\n",
    "serendipity_output['item_id'] = serendipity_output['item_id'].astype(int)\n",
    "\n",
    "# 7. 保存结果\n",
    "serendipity_output.to_csv('ml/user_item_serendipity.csv', index=False)"
   ]
  },
  {
   "cell_type": "code",
   "execution_count": 231,
   "metadata": {},
   "outputs": [
    {
     "name": "stdout",
     "output_type": "stream",
     "text": [
      "总交互数: 1548\n",
      "Serendipity数量: 941\n",
      "Serendipity比例: 60.79%\n"
     ]
    }
   ],
   "source": [
    "# 8. 输出统计信息\n",
    "total_interactions = len(serendipity_output)\n",
    "serendipity_count = serendipity_output['serendipity'].sum()\n",
    "serendipity_percentage = (serendipity_count / total_interactions) * 100\n",
    "\n",
    "print(f\"总交互数: {total_interactions}\")\n",
    "print(f\"Serendipity数量: {serendipity_count}\")\n",
    "print(f\"Serendipity比例: {serendipity_percentage:.2f}%\")"
   ]
  }
 ],
 "metadata": {
  "kernelspec": {
   "display_name": "serenrec",
   "language": "python",
   "name": "python3"
  },
  "language_info": {
   "codemirror_mode": {
    "name": "ipython",
    "version": 3
   },
   "file_extension": ".py",
   "mimetype": "text/x-python",
   "name": "python",
   "nbconvert_exporter": "python",
   "pygments_lexer": "ipython3",
   "version": "3.12.9"
  }
 },
 "nbformat": 4,
 "nbformat_minor": 2
}
