{
 "cells": [
  {
   "cell_type": "markdown",
   "metadata": {},
   "source": [
    "# Amazon Book Reviews Data preprocessing"
   ]
  },
  {
   "cell_type": "code",
   "execution_count": 1,
   "metadata": {},
   "outputs": [],
   "source": [
    "import pandas as pd\n",
    "import numpy as np\n",
    "import gzip"
   ]
  },
  {
   "cell_type": "code",
   "execution_count": 2,
   "metadata": {},
   "outputs": [],
   "source": [
    "def parse(path):\n",
    "  g = gzip.open(path, 'r')\n",
    "  for l in g:\n",
    "    yield eval(l)"
   ]
  },
  {
   "cell_type": "code",
   "execution_count": 3,
   "metadata": {},
   "outputs": [
    {
     "name": "stdout",
     "output_type": "stream",
     "text": [
      "日期: 2012-01-01 00:00:00\n",
      "时间戳: 1325404800.0\n"
     ]
    }
   ],
   "source": [
    "from datetime import datetime\n",
    "\n",
    "# 定义日期字符串和对应的格式\n",
    "date_str = \"2012-01-01 00:00:00\"\n",
    "date_format = \"%Y-%m-%d %H:%M:%S\"\n",
    "\n",
    "# 将字符串解析为 datetime 对象\n",
    "dt = datetime.strptime(date_str, date_format)\n",
    "\n",
    "timestamp = dt.timestamp()\n",
    "\n",
    "print(\"日期:\", dt)\n",
    "print(\"时间戳:\", timestamp)"
   ]
  },
  {
   "cell_type": "code",
   "execution_count": 4,
   "metadata": {},
   "outputs": [],
   "source": [
    "path = \"reviews_Books_5.json.gz\""
   ]
  },
  {
   "cell_type": "code",
   "execution_count": 5,
   "metadata": {},
   "outputs": [
    {
     "data": {
      "text/plain": [
       "{'reviewerID': 'A10000012B7CGYKOMPQ4L',\n",
       " 'asin': '000100039X',\n",
       " 'reviewerName': 'Adam',\n",
       " 'helpful': [0, 0],\n",
       " 'reviewText': 'Spiritually and mentally inspiring! A book that allows you to question your morals and will help you discover who you really are!',\n",
       " 'overall': 5.0,\n",
       " 'summary': 'Wonderful!',\n",
       " 'unixReviewTime': 1355616000,\n",
       " 'reviewTime': '12 16, 2012'}"
      ]
     },
     "execution_count": 5,
     "metadata": {},
     "output_type": "execute_result"
    }
   ],
   "source": [
    "reviews = [r for r in parse(path) if r['unixReviewTime'] > timestamp]\n",
    "reviews[0]"
   ]
  },
  {
   "cell_type": "code",
   "execution_count": 6,
   "metadata": {},
   "outputs": [],
   "source": [
    "meta_path = 'meta_Books.json.gz'"
   ]
  },
  {
   "cell_type": "code",
   "execution_count": 7,
   "metadata": {},
   "outputs": [
    {
     "data": {
      "text/plain": [
       "{'asin': '0001048791',\n",
       " 'salesRank': {'Books': 6334800},\n",
       " 'imUrl': 'http://ecx.images-amazon.com/images/I/51MKP0T4DBL.jpg',\n",
       " 'categories': [['Books']],\n",
       " 'title': 'The Crucible: Performed by Stuart Pankin, Jerome Dempsey &amp; Cast'}"
      ]
     },
     "execution_count": 7,
     "metadata": {},
     "output_type": "execute_result"
    }
   ],
   "source": [
    "metainfo = [m for m in parse(meta_path)]\n",
    "metainfo[0]"
   ]
  },
  {
   "cell_type": "code",
   "execution_count": 8,
   "metadata": {},
   "outputs": [
    {
     "data": {
      "text/html": [
       "<div>\n",
       "<style scoped>\n",
       "    .dataframe tbody tr th:only-of-type {\n",
       "        vertical-align: middle;\n",
       "    }\n",
       "\n",
       "    .dataframe tbody tr th {\n",
       "        vertical-align: top;\n",
       "    }\n",
       "\n",
       "    .dataframe thead th {\n",
       "        text-align: right;\n",
       "    }\n",
       "</style>\n",
       "<table border=\"1\" class=\"dataframe\">\n",
       "  <thead>\n",
       "    <tr style=\"text-align: right;\">\n",
       "      <th></th>\n",
       "      <th>user_id</th>\n",
       "      <th>item_id</th>\n",
       "      <th>timestamp</th>\n",
       "      <th>review</th>\n",
       "      <th>rating</th>\n",
       "      <th>label</th>\n",
       "    </tr>\n",
       "  </thead>\n",
       "  <tbody>\n",
       "    <tr>\n",
       "      <th>0</th>\n",
       "      <td>a10e3f50diujee</td>\n",
       "      <td>0061148512</td>\n",
       "      <td>1196899200</td>\n",
       "      <td>i have always loved this book.  plath's litera...</td>\n",
       "      <td>5.0</td>\n",
       "      <td>0.0</td>\n",
       "    </tr>\n",
       "    <tr>\n",
       "      <th>1</th>\n",
       "      <td>a10e3f50diujee</td>\n",
       "      <td>0786718617</td>\n",
       "      <td>1199750400</td>\n",
       "      <td>assia is infamous for being the woman who ende...</td>\n",
       "      <td>4.0</td>\n",
       "      <td>0.0</td>\n",
       "    </tr>\n",
       "    <tr>\n",
       "      <th>2</th>\n",
       "      <td>a10e3f50diujee</td>\n",
       "      <td>0446617687</td>\n",
       "      <td>1212624000</td>\n",
       "      <td>because i am a fan of the show, i sought out t...</td>\n",
       "      <td>3.0</td>\n",
       "      <td>0.0</td>\n",
       "    </tr>\n",
       "    <tr>\n",
       "      <th>3</th>\n",
       "      <td>a10e3f50diujee</td>\n",
       "      <td>0375725601</td>\n",
       "      <td>1212969600</td>\n",
       "      <td>erik larson took on quite a task with this wor...</td>\n",
       "      <td>5.0</td>\n",
       "      <td>0.0</td>\n",
       "    </tr>\n",
       "    <tr>\n",
       "      <th>4</th>\n",
       "      <td>a10e3f50diujee</td>\n",
       "      <td>0141800356</td>\n",
       "      <td>1215043200</td>\n",
       "      <td>although there are hundreds of reviews, i had ...</td>\n",
       "      <td>5.0</td>\n",
       "      <td>0.0</td>\n",
       "    </tr>\n",
       "  </tbody>\n",
       "</table>\n",
       "</div>"
      ],
      "text/plain": [
       "          user_id     item_id   timestamp  \\\n",
       "0  a10e3f50diujee  0061148512  1196899200   \n",
       "1  a10e3f50diujee  0786718617  1199750400   \n",
       "2  a10e3f50diujee  0446617687  1212624000   \n",
       "3  a10e3f50diujee  0375725601  1212969600   \n",
       "4  a10e3f50diujee  0141800356  1215043200   \n",
       "\n",
       "                                              review  rating  label  \n",
       "0  i have always loved this book.  plath's litera...     5.0    0.0  \n",
       "1  assia is infamous for being the woman who ende...     4.0    0.0  \n",
       "2  because i am a fan of the show, i sought out t...     3.0    0.0  \n",
       "3  erik larson took on quite a task with this wor...     5.0    0.0  \n",
       "4  although there are hundreds of reviews, i had ...     5.0    0.0  "
      ]
     },
     "execution_count": 8,
     "metadata": {},
     "output_type": "execute_result"
    }
   ],
   "source": [
    "serenbooks_df = pd.read_csv(\"SerenLens/Dataset/SerenLens_Books.csv\")\n",
    "serenbooks_df.head()"
   ]
  },
  {
   "cell_type": "code",
   "execution_count": 9,
   "metadata": {},
   "outputs": [
    {
     "data": {
      "text/plain": [
       "2346"
      ]
     },
     "execution_count": 9,
     "metadata": {},
     "output_type": "execute_result"
    }
   ],
   "source": [
    "len(serenbooks_df['user_id'].unique())"
   ]
  },
  {
   "cell_type": "code",
   "execution_count": 10,
   "metadata": {},
   "outputs": [
    {
     "data": {
      "text/plain": [
       "user_id\n",
       "a1j1nlb7qkb6bi      10\n",
       "ae97uca5l0tzi       10\n",
       "aszjstlow9lxk       10\n",
       "a36yh1uu9x8kee      10\n",
       "a1pallp4aj87us      10\n",
       "                  ... \n",
       "a3m174ic0vxos2    1576\n",
       "a1k1jw1c5cusuz    2910\n",
       "a13qtz8cimhhg4    2949\n",
       "ahut55e980rdr     3091\n",
       "a2f6n60z96caji    5891\n",
       "Name: count, Length: 2346, dtype: int64"
      ]
     },
     "execution_count": 10,
     "metadata": {},
     "output_type": "execute_result"
    }
   ],
   "source": [
    "serenbooks_df['user_id'].value_counts(ascending=True)"
   ]
  },
  {
   "cell_type": "code",
   "execution_count": 11,
   "metadata": {},
   "outputs": [
    {
     "data": {
      "text/plain": [
       "6130337"
      ]
     },
     "execution_count": 11,
     "metadata": {},
     "output_type": "execute_result"
    }
   ],
   "source": [
    "len(reviews)"
   ]
  },
  {
   "cell_type": "code",
   "execution_count": 12,
   "metadata": {},
   "outputs": [
    {
     "data": {
      "text/html": [
       "<div>\n",
       "<style scoped>\n",
       "    .dataframe tbody tr th:only-of-type {\n",
       "        vertical-align: middle;\n",
       "    }\n",
       "\n",
       "    .dataframe tbody tr th {\n",
       "        vertical-align: top;\n",
       "    }\n",
       "\n",
       "    .dataframe thead th {\n",
       "        text-align: right;\n",
       "    }\n",
       "</style>\n",
       "<table border=\"1\" class=\"dataframe\">\n",
       "  <thead>\n",
       "    <tr style=\"text-align: right;\">\n",
       "      <th></th>\n",
       "      <th>reviewerID</th>\n",
       "      <th>asin</th>\n",
       "      <th>reviewerName</th>\n",
       "      <th>helpful</th>\n",
       "      <th>reviewText</th>\n",
       "      <th>overall</th>\n",
       "      <th>summary</th>\n",
       "      <th>unixReviewTime</th>\n",
       "      <th>reviewTime</th>\n",
       "    </tr>\n",
       "  </thead>\n",
       "  <tbody>\n",
       "    <tr>\n",
       "      <th>0</th>\n",
       "      <td>A10000012B7CGYKOMPQ4L</td>\n",
       "      <td>000100039X</td>\n",
       "      <td>Adam</td>\n",
       "      <td>[0, 0]</td>\n",
       "      <td>Spiritually and mentally inspiring! A book tha...</td>\n",
       "      <td>5.0</td>\n",
       "      <td>Wonderful!</td>\n",
       "      <td>1355616000</td>\n",
       "      <td>12 16, 2012</td>\n",
       "    </tr>\n",
       "    <tr>\n",
       "      <th>1</th>\n",
       "      <td>A1BM81XB4QHOA3</td>\n",
       "      <td>000100039X</td>\n",
       "      <td>Ahoro Blethends \"Seriously\"</td>\n",
       "      <td>[0, 0]</td>\n",
       "      <td>This book provides a reflection that you can a...</td>\n",
       "      <td>5.0</td>\n",
       "      <td>Must Read for Life Afficianados</td>\n",
       "      <td>1390003200</td>\n",
       "      <td>01 18, 2014</td>\n",
       "    </tr>\n",
       "    <tr>\n",
       "      <th>2</th>\n",
       "      <td>A3V1MKC2BVWY48</td>\n",
       "      <td>000100039X</td>\n",
       "      <td>Alex Dawson</td>\n",
       "      <td>[0, 0]</td>\n",
       "      <td>Reading this made my mind feel like a still po...</td>\n",
       "      <td>5.0</td>\n",
       "      <td>This book will bring you peace</td>\n",
       "      <td>1390780800</td>\n",
       "      <td>01 27, 2014</td>\n",
       "    </tr>\n",
       "    <tr>\n",
       "      <th>3</th>\n",
       "      <td>A29TRDMK51GKZR</td>\n",
       "      <td>000100039X</td>\n",
       "      <td>Alpine Plume</td>\n",
       "      <td>[0, 0]</td>\n",
       "      <td>Deep, moving dramatic verses of the heart and ...</td>\n",
       "      <td>5.0</td>\n",
       "      <td>Such Beauty</td>\n",
       "      <td>1383436800</td>\n",
       "      <td>11 3, 2013</td>\n",
       "    </tr>\n",
       "    <tr>\n",
       "      <th>4</th>\n",
       "      <td>A3FI0744PG1WYG</td>\n",
       "      <td>000100039X</td>\n",
       "      <td>Always Reading \"tkm\"</td>\n",
       "      <td>[0, 0]</td>\n",
       "      <td>This is a timeless classic.  Over the years I'...</td>\n",
       "      <td>5.0</td>\n",
       "      <td>The Prophet</td>\n",
       "      <td>1390953600</td>\n",
       "      <td>01 29, 2014</td>\n",
       "    </tr>\n",
       "  </tbody>\n",
       "</table>\n",
       "</div>"
      ],
      "text/plain": [
       "              reviewerID        asin                 reviewerName helpful  \\\n",
       "0  A10000012B7CGYKOMPQ4L  000100039X                         Adam  [0, 0]   \n",
       "1         A1BM81XB4QHOA3  000100039X  Ahoro Blethends \"Seriously\"  [0, 0]   \n",
       "2         A3V1MKC2BVWY48  000100039X                  Alex Dawson  [0, 0]   \n",
       "3         A29TRDMK51GKZR  000100039X                 Alpine Plume  [0, 0]   \n",
       "4         A3FI0744PG1WYG  000100039X         Always Reading \"tkm\"  [0, 0]   \n",
       "\n",
       "                                          reviewText  overall  \\\n",
       "0  Spiritually and mentally inspiring! A book tha...      5.0   \n",
       "1  This book provides a reflection that you can a...      5.0   \n",
       "2  Reading this made my mind feel like a still po...      5.0   \n",
       "3  Deep, moving dramatic verses of the heart and ...      5.0   \n",
       "4  This is a timeless classic.  Over the years I'...      5.0   \n",
       "\n",
       "                           summary  unixReviewTime   reviewTime  \n",
       "0                       Wonderful!      1355616000  12 16, 2012  \n",
       "1  Must Read for Life Afficianados      1390003200  01 18, 2014  \n",
       "2   This book will bring you peace      1390780800  01 27, 2014  \n",
       "3                      Such Beauty      1383436800   11 3, 2013  \n",
       "4                      The Prophet      1390953600  01 29, 2014  "
      ]
     },
     "execution_count": 12,
     "metadata": {},
     "output_type": "execute_result"
    }
   ],
   "source": [
    "reviews_df = pd.DataFrame(reviews)\n",
    "reviews_df.head()"
   ]
  },
  {
   "cell_type": "code",
   "execution_count": 13,
   "metadata": {},
   "outputs": [],
   "source": [
    "serenbooks_df['user_id'] = serenbooks_df['user_id'].apply(lambda x: x.upper())"
   ]
  },
  {
   "cell_type": "code",
   "execution_count": 14,
   "metadata": {},
   "outputs": [],
   "source": [
    "serenbooks_df['item_id'] = serenbooks_df['item_id'].apply(lambda x: x.upper())"
   ]
  },
  {
   "cell_type": "code",
   "execution_count": 15,
   "metadata": {},
   "outputs": [
    {
     "data": {
      "text/html": [
       "<div>\n",
       "<style scoped>\n",
       "    .dataframe tbody tr th:only-of-type {\n",
       "        vertical-align: middle;\n",
       "    }\n",
       "\n",
       "    .dataframe tbody tr th {\n",
       "        vertical-align: top;\n",
       "    }\n",
       "\n",
       "    .dataframe thead th {\n",
       "        text-align: right;\n",
       "    }\n",
       "</style>\n",
       "<table border=\"1\" class=\"dataframe\">\n",
       "  <thead>\n",
       "    <tr style=\"text-align: right;\">\n",
       "      <th></th>\n",
       "      <th>user_id</th>\n",
       "      <th>item_id</th>\n",
       "      <th>timestamp</th>\n",
       "      <th>review</th>\n",
       "      <th>rating</th>\n",
       "      <th>label</th>\n",
       "    </tr>\n",
       "  </thead>\n",
       "  <tbody>\n",
       "    <tr>\n",
       "      <th>0</th>\n",
       "      <td>A10E3F50DIUJEE</td>\n",
       "      <td>0061148512</td>\n",
       "      <td>1196899200</td>\n",
       "      <td>i have always loved this book.  plath's litera...</td>\n",
       "      <td>5.0</td>\n",
       "      <td>0.0</td>\n",
       "    </tr>\n",
       "    <tr>\n",
       "      <th>1</th>\n",
       "      <td>A10E3F50DIUJEE</td>\n",
       "      <td>0786718617</td>\n",
       "      <td>1199750400</td>\n",
       "      <td>assia is infamous for being the woman who ende...</td>\n",
       "      <td>4.0</td>\n",
       "      <td>0.0</td>\n",
       "    </tr>\n",
       "    <tr>\n",
       "      <th>2</th>\n",
       "      <td>A10E3F50DIUJEE</td>\n",
       "      <td>0446617687</td>\n",
       "      <td>1212624000</td>\n",
       "      <td>because i am a fan of the show, i sought out t...</td>\n",
       "      <td>3.0</td>\n",
       "      <td>0.0</td>\n",
       "    </tr>\n",
       "    <tr>\n",
       "      <th>3</th>\n",
       "      <td>A10E3F50DIUJEE</td>\n",
       "      <td>0375725601</td>\n",
       "      <td>1212969600</td>\n",
       "      <td>erik larson took on quite a task with this wor...</td>\n",
       "      <td>5.0</td>\n",
       "      <td>0.0</td>\n",
       "    </tr>\n",
       "    <tr>\n",
       "      <th>4</th>\n",
       "      <td>A10E3F50DIUJEE</td>\n",
       "      <td>0141800356</td>\n",
       "      <td>1215043200</td>\n",
       "      <td>although there are hundreds of reviews, i had ...</td>\n",
       "      <td>5.0</td>\n",
       "      <td>0.0</td>\n",
       "    </tr>\n",
       "    <tr>\n",
       "      <th>5</th>\n",
       "      <td>A10E3F50DIUJEE</td>\n",
       "      <td>0743249895</td>\n",
       "      <td>1215388800</td>\n",
       "      <td>levy is a brilliant writer with a colloquial s...</td>\n",
       "      <td>5.0</td>\n",
       "      <td>0.0</td>\n",
       "    </tr>\n",
       "    <tr>\n",
       "      <th>6</th>\n",
       "      <td>A10E3F50DIUJEE</td>\n",
       "      <td>0812817079</td>\n",
       "      <td>1215648000</td>\n",
       "      <td>i have always been a fan of marilyn monroe.  i...</td>\n",
       "      <td>5.0</td>\n",
       "      <td>0.0</td>\n",
       "    </tr>\n",
       "    <tr>\n",
       "      <th>7</th>\n",
       "      <td>A10E3F50DIUJEE</td>\n",
       "      <td>0060957905</td>\n",
       "      <td>1216080000</td>\n",
       "      <td>a big thank you to joyce carol oates for compi...</td>\n",
       "      <td>4.0</td>\n",
       "      <td>0.0</td>\n",
       "    </tr>\n",
       "    <tr>\n",
       "      <th>8</th>\n",
       "      <td>A10E3F50DIUJEE</td>\n",
       "      <td>0345439104</td>\n",
       "      <td>1218499200</td>\n",
       "      <td>this book is definitely a good book.  reading ...</td>\n",
       "      <td>4.0</td>\n",
       "      <td>0.0</td>\n",
       "    </tr>\n",
       "    <tr>\n",
       "      <th>9</th>\n",
       "      <td>A10E3F50DIUJEE</td>\n",
       "      <td>0099440784</td>\n",
       "      <td>1219276800</td>\n",
       "      <td>while doing a research paper about chinese fem...</td>\n",
       "      <td>5.0</td>\n",
       "      <td>1.0</td>\n",
       "    </tr>\n",
       "  </tbody>\n",
       "</table>\n",
       "</div>"
      ],
      "text/plain": [
       "          user_id     item_id   timestamp  \\\n",
       "0  A10E3F50DIUJEE  0061148512  1196899200   \n",
       "1  A10E3F50DIUJEE  0786718617  1199750400   \n",
       "2  A10E3F50DIUJEE  0446617687  1212624000   \n",
       "3  A10E3F50DIUJEE  0375725601  1212969600   \n",
       "4  A10E3F50DIUJEE  0141800356  1215043200   \n",
       "5  A10E3F50DIUJEE  0743249895  1215388800   \n",
       "6  A10E3F50DIUJEE  0812817079  1215648000   \n",
       "7  A10E3F50DIUJEE  0060957905  1216080000   \n",
       "8  A10E3F50DIUJEE  0345439104  1218499200   \n",
       "9  A10E3F50DIUJEE  0099440784  1219276800   \n",
       "\n",
       "                                              review  rating  label  \n",
       "0  i have always loved this book.  plath's litera...     5.0    0.0  \n",
       "1  assia is infamous for being the woman who ende...     4.0    0.0  \n",
       "2  because i am a fan of the show, i sought out t...     3.0    0.0  \n",
       "3  erik larson took on quite a task with this wor...     5.0    0.0  \n",
       "4  although there are hundreds of reviews, i had ...     5.0    0.0  \n",
       "5  levy is a brilliant writer with a colloquial s...     5.0    0.0  \n",
       "6  i have always been a fan of marilyn monroe.  i...     5.0    0.0  \n",
       "7  a big thank you to joyce carol oates for compi...     4.0    0.0  \n",
       "8  this book is definitely a good book.  reading ...     4.0    0.0  \n",
       "9  while doing a research paper about chinese fem...     5.0    1.0  "
      ]
     },
     "execution_count": 15,
     "metadata": {},
     "output_type": "execute_result"
    }
   ],
   "source": [
    "serenbooks_df.head(10)"
   ]
  },
  {
   "cell_type": "code",
   "execution_count": 16,
   "metadata": {},
   "outputs": [
    {
     "name": "stdout",
     "output_type": "stream",
     "text": [
      "valid users: 152704\n",
      "valid items: 64640\n",
      "filtered interactions: (2937929, 9)\n"
     ]
    }
   ],
   "source": [
    "usercount = reviews_df['reviewerID'].value_counts()\n",
    "itemcount = reviews_df['asin'].value_counts()\n",
    "valid_users = usercount[usercount >= 10].index\n",
    "valid_items = itemcount[itemcount >= 20].index\n",
    "seren_users = serenbooks_df['user_id'].unique()\n",
    "filtered_reviews = reviews_df[reviews_df['reviewerID'].isin(valid_users) & reviews_df['asin'].isin(valid_items)]\n",
    "print(f\"valid users: {len(valid_users)}\")\n",
    "print(f\"valid items: {len(valid_items)}\")\n",
    "print(f\"filtered interactions: {filtered_reviews.shape}\")"
   ]
  },
  {
   "cell_type": "code",
   "execution_count": 17,
   "metadata": {},
   "outputs": [
    {
     "data": {
      "text/plain": [
       "153639"
      ]
     },
     "execution_count": 17,
     "metadata": {},
     "output_type": "execute_result"
    }
   ],
   "source": [
    "all_users = np.union1d(seren_users, valid_users)\n",
    "len(all_users)"
   ]
  },
  {
   "cell_type": "code",
   "execution_count": 18,
   "metadata": {},
   "outputs": [
    {
     "data": {
      "text/plain": [
       "Index(['AFVQZQ8PW0L', 'AHUT55E980RDR', 'A13QTZ8CIMHHG4', 'A328S9RN3U5M68',\n",
       "       'A1JLU5H1CCENWX', 'A2F6N60Z96CAJI', 'A1JKGTL51HHTU1', 'A2VXSQHJWZAQGY',\n",
       "       'A2OJW07GQRNJUT', 'A37BRR2L8PX3R2',\n",
       "       ...\n",
       "       'A2BO2FZ2HP1OAI', 'ANAGPRVNUWKJQ', 'A1LY1U3RD6ECAE', 'A1EMR73OFGV40A',\n",
       "       'A1AJUG8QU3LOCI', 'A2KQZ0W9WO5Y3F', 'A1QCICN4MSAKAU', 'A34CT35JN3U1A6',\n",
       "       'AGZ17QX48VVE7', 'A3D71P56OFOBMN'],\n",
       "      dtype='object', name='reviewerID', length=152704)"
      ]
     },
     "execution_count": 18,
     "metadata": {},
     "output_type": "execute_result"
    }
   ],
   "source": [
    "valid_users"
   ]
  },
  {
   "cell_type": "code",
   "execution_count": 19,
   "metadata": {},
   "outputs": [
    {
     "data": {
      "text/plain": [
       "array(['A10E3F50DIUJEE', 'A10F5LMYPXQYDF', 'A10F8DLU94ACKP', ...,\n",
       "       'AZVOBYTOJNTQX', 'AZWC9XAY34IPW', 'AZWMYTK7G5KQT'],\n",
       "      shape=(2346,), dtype=object)"
      ]
     },
     "execution_count": 19,
     "metadata": {},
     "output_type": "execute_result"
    }
   ],
   "source": [
    "seren_users"
   ]
  },
  {
   "cell_type": "code",
   "execution_count": 20,
   "metadata": {},
   "outputs": [
    {
     "name": "stdout",
     "output_type": "stream",
     "text": [
      "有 935 个用户在serenbooks.csv中但在 reviews 中交互少于 10 次\n"
     ]
    }
   ],
   "source": [
    "missing_users = np.setdiff1d(seren_users, valid_users)\n",
    "if len(missing_users) > 0:\n",
    "    print(f\"有 {len(missing_users)} 个用户在serenbooks.csv中但在 reviews 中交互少于 10 次\")\n",
    "    # 对于这些用户，我们仍然保留他们的所有交互记录\n",
    "    missing_interactions = reviews_df[reviews_df['reviewerID'].isin(missing_users)]\n",
    "    if len(missing_interactions) > 0:\n",
    "        filtered_reviews = pd.concat([filtered_reviews, missing_interactions])"
   ]
  },
  {
   "cell_type": "code",
   "execution_count": 21,
   "metadata": {},
   "outputs": [
    {
     "name": "stdout",
     "output_type": "stream",
     "text": [
      "935\n"
     ]
    }
   ],
   "source": [
    "print(len(missing_users))"
   ]
  },
  {
   "cell_type": "code",
   "execution_count": 22,
   "metadata": {},
   "outputs": [
    {
     "data": {
      "text/plain": [
       "2346"
      ]
     },
     "execution_count": 22,
     "metadata": {},
     "output_type": "execute_result"
    }
   ],
   "source": [
    "len(seren_users)"
   ]
  },
  {
   "cell_type": "code",
   "execution_count": 23,
   "metadata": {},
   "outputs": [],
   "source": [
    "unique_user_ids = filtered_reviews['reviewerID'].unique()\n",
    "unique_item_ids = filtered_reviews['asin'].unique()"
   ]
  },
  {
   "cell_type": "code",
   "execution_count": 24,
   "metadata": {},
   "outputs": [],
   "source": [
    "# 创建映射字典\n",
    "user_id_map = {old_id: new_id for new_id, old_id in enumerate(unique_user_ids, 1)}\n",
    "item_id_map = {old_id: new_id for new_id, old_id in enumerate(unique_item_ids, 1)}"
   ]
  },
  {
   "cell_type": "code",
   "execution_count": 25,
   "metadata": {},
   "outputs": [],
   "source": [
    "# 应用映射到交互数据\n",
    "filtered_interactions_mapped = filtered_reviews.copy()\n",
    "filtered_interactions_mapped['user_id'] = filtered_interactions_mapped['reviewerID'].map(user_id_map)\n",
    "filtered_interactions_mapped['item_id'] = filtered_interactions_mapped['asin'].map(item_id_map)"
   ]
  },
  {
   "cell_type": "code",
   "execution_count": 26,
   "metadata": {},
   "outputs": [
    {
     "data": {
      "text/html": [
       "<div>\n",
       "<style scoped>\n",
       "    .dataframe tbody tr th:only-of-type {\n",
       "        vertical-align: middle;\n",
       "    }\n",
       "\n",
       "    .dataframe tbody tr th {\n",
       "        vertical-align: top;\n",
       "    }\n",
       "\n",
       "    .dataframe thead th {\n",
       "        text-align: right;\n",
       "    }\n",
       "</style>\n",
       "<table border=\"1\" class=\"dataframe\">\n",
       "  <thead>\n",
       "    <tr style=\"text-align: right;\">\n",
       "      <th></th>\n",
       "      <th>reviewerID</th>\n",
       "      <th>asin</th>\n",
       "      <th>reviewerName</th>\n",
       "      <th>helpful</th>\n",
       "      <th>reviewText</th>\n",
       "      <th>overall</th>\n",
       "      <th>summary</th>\n",
       "      <th>unixReviewTime</th>\n",
       "      <th>reviewTime</th>\n",
       "      <th>user_id</th>\n",
       "      <th>item_id</th>\n",
       "    </tr>\n",
       "  </thead>\n",
       "  <tbody>\n",
       "    <tr>\n",
       "      <th>3</th>\n",
       "      <td>A29TRDMK51GKZR</td>\n",
       "      <td>000100039X</td>\n",
       "      <td>Alpine Plume</td>\n",
       "      <td>[0, 0]</td>\n",
       "      <td>Deep, moving dramatic verses of the heart and ...</td>\n",
       "      <td>5.0</td>\n",
       "      <td>Such Beauty</td>\n",
       "      <td>1383436800</td>\n",
       "      <td>11 3, 2013</td>\n",
       "      <td>1</td>\n",
       "      <td>1</td>\n",
       "    </tr>\n",
       "    <tr>\n",
       "      <th>6</th>\n",
       "      <td>A2KU9IU07LOJS1</td>\n",
       "      <td>000100039X</td>\n",
       "      <td>Amazon Customer</td>\n",
       "      <td>[0, 0]</td>\n",
       "      <td>This book has been a classic for many years. I...</td>\n",
       "      <td>5.0</td>\n",
       "      <td>Great classic that everyone should read</td>\n",
       "      <td>1384905600</td>\n",
       "      <td>11 20, 2013</td>\n",
       "      <td>2</td>\n",
       "      <td>1</td>\n",
       "    </tr>\n",
       "    <tr>\n",
       "      <th>9</th>\n",
       "      <td>A3FFNE1DR5SI1W</td>\n",
       "      <td>000100039X</td>\n",
       "      <td>A. Morelli</td>\n",
       "      <td>[1, 1]</td>\n",
       "      <td>Can't say enough about Kahlil Gibran's work am...</td>\n",
       "      <td>5.0</td>\n",
       "      <td>phenomenal piece of literature!</td>\n",
       "      <td>1340755200</td>\n",
       "      <td>06 27, 2012</td>\n",
       "      <td>3</td>\n",
       "      <td>1</td>\n",
       "    </tr>\n",
       "    <tr>\n",
       "      <th>10</th>\n",
       "      <td>A1TT4CY55WLHAR</td>\n",
       "      <td>000100039X</td>\n",
       "      <td>anonymous</td>\n",
       "      <td>[0, 0]</td>\n",
       "      <td>I have the 1972 version, bought in 1974. The 1...</td>\n",
       "      <td>5.0</td>\n",
       "      <td>textured paper, old-style typography, and leat...</td>\n",
       "      <td>1342396800</td>\n",
       "      <td>07 16, 2012</td>\n",
       "      <td>4</td>\n",
       "      <td>1</td>\n",
       "    </tr>\n",
       "    <tr>\n",
       "      <th>14</th>\n",
       "      <td>AF7CSSGV93RXN</td>\n",
       "      <td>000100039X</td>\n",
       "      <td>A. William Benitez \"A. William Benitez\"</td>\n",
       "      <td>[5, 6]</td>\n",
       "      <td>I first read The Prophet by Kahlil Gibran over...</td>\n",
       "      <td>5.0</td>\n",
       "      <td>A Great Little Gift</td>\n",
       "      <td>1331510400</td>\n",
       "      <td>03 12, 2012</td>\n",
       "      <td>5</td>\n",
       "      <td>1</td>\n",
       "    </tr>\n",
       "  </tbody>\n",
       "</table>\n",
       "</div>"
      ],
      "text/plain": [
       "        reviewerID        asin                             reviewerName  \\\n",
       "3   A29TRDMK51GKZR  000100039X                             Alpine Plume   \n",
       "6   A2KU9IU07LOJS1  000100039X                          Amazon Customer   \n",
       "9   A3FFNE1DR5SI1W  000100039X                               A. Morelli   \n",
       "10  A1TT4CY55WLHAR  000100039X                                anonymous   \n",
       "14   AF7CSSGV93RXN  000100039X  A. William Benitez \"A. William Benitez\"   \n",
       "\n",
       "   helpful                                         reviewText  overall  \\\n",
       "3   [0, 0]  Deep, moving dramatic verses of the heart and ...      5.0   \n",
       "6   [0, 0]  This book has been a classic for many years. I...      5.0   \n",
       "9   [1, 1]  Can't say enough about Kahlil Gibran's work am...      5.0   \n",
       "10  [0, 0]  I have the 1972 version, bought in 1974. The 1...      5.0   \n",
       "14  [5, 6]  I first read The Prophet by Kahlil Gibran over...      5.0   \n",
       "\n",
       "                                              summary  unixReviewTime  \\\n",
       "3                                         Such Beauty      1383436800   \n",
       "6             Great classic that everyone should read      1384905600   \n",
       "9                     phenomenal piece of literature!      1340755200   \n",
       "10  textured paper, old-style typography, and leat...      1342396800   \n",
       "14                                A Great Little Gift      1331510400   \n",
       "\n",
       "     reviewTime  user_id  item_id  \n",
       "3    11 3, 2013        1        1  \n",
       "6   11 20, 2013        2        1  \n",
       "9   06 27, 2012        3        1  \n",
       "10  07 16, 2012        4        1  \n",
       "14  03 12, 2012        5        1  "
      ]
     },
     "execution_count": 26,
     "metadata": {},
     "output_type": "execute_result"
    }
   ],
   "source": [
    "filtered_interactions_mapped.head()"
   ]
  },
  {
   "cell_type": "code",
   "execution_count": 27,
   "metadata": {},
   "outputs": [
    {
     "data": {
      "text/html": [
       "<div>\n",
       "<style scoped>\n",
       "    .dataframe tbody tr th:only-of-type {\n",
       "        vertical-align: middle;\n",
       "    }\n",
       "\n",
       "    .dataframe tbody tr th {\n",
       "        vertical-align: top;\n",
       "    }\n",
       "\n",
       "    .dataframe thead th {\n",
       "        text-align: right;\n",
       "    }\n",
       "</style>\n",
       "<table border=\"1\" class=\"dataframe\">\n",
       "  <thead>\n",
       "    <tr style=\"text-align: right;\">\n",
       "      <th></th>\n",
       "      <th>user_id</th>\n",
       "      <th>item_id</th>\n",
       "      <th>timestamp</th>\n",
       "      <th>review</th>\n",
       "      <th>rating</th>\n",
       "      <th>label</th>\n",
       "    </tr>\n",
       "  </thead>\n",
       "  <tbody>\n",
       "    <tr>\n",
       "      <th>0</th>\n",
       "      <td>18002.0</td>\n",
       "      <td>935.0</td>\n",
       "      <td>1196899200</td>\n",
       "      <td>i have always loved this book.  plath's litera...</td>\n",
       "      <td>5.0</td>\n",
       "      <td>0.0</td>\n",
       "    </tr>\n",
       "    <tr>\n",
       "      <th>1</th>\n",
       "      <td>18002.0</td>\n",
       "      <td>NaN</td>\n",
       "      <td>1199750400</td>\n",
       "      <td>assia is infamous for being the woman who ende...</td>\n",
       "      <td>4.0</td>\n",
       "      <td>0.0</td>\n",
       "    </tr>\n",
       "    <tr>\n",
       "      <th>2</th>\n",
       "      <td>18002.0</td>\n",
       "      <td>12693.0</td>\n",
       "      <td>1212624000</td>\n",
       "      <td>because i am a fan of the show, i sought out t...</td>\n",
       "      <td>3.0</td>\n",
       "      <td>0.0</td>\n",
       "    </tr>\n",
       "    <tr>\n",
       "      <th>3</th>\n",
       "      <td>18002.0</td>\n",
       "      <td>9395.0</td>\n",
       "      <td>1212969600</td>\n",
       "      <td>erik larson took on quite a task with this wor...</td>\n",
       "      <td>5.0</td>\n",
       "      <td>0.0</td>\n",
       "    </tr>\n",
       "    <tr>\n",
       "      <th>4</th>\n",
       "      <td>18002.0</td>\n",
       "      <td>3457.0</td>\n",
       "      <td>1215043200</td>\n",
       "      <td>although there are hundreds of reviews, i had ...</td>\n",
       "      <td>5.0</td>\n",
       "      <td>0.0</td>\n",
       "    </tr>\n",
       "  </tbody>\n",
       "</table>\n",
       "</div>"
      ],
      "text/plain": [
       "   user_id  item_id   timestamp  \\\n",
       "0  18002.0    935.0  1196899200   \n",
       "1  18002.0      NaN  1199750400   \n",
       "2  18002.0  12693.0  1212624000   \n",
       "3  18002.0   9395.0  1212969600   \n",
       "4  18002.0   3457.0  1215043200   \n",
       "\n",
       "                                              review  rating  label  \n",
       "0  i have always loved this book.  plath's litera...     5.0    0.0  \n",
       "1  assia is infamous for being the woman who ende...     4.0    0.0  \n",
       "2  because i am a fan of the show, i sought out t...     3.0    0.0  \n",
       "3  erik larson took on quite a task with this wor...     5.0    0.0  \n",
       "4  although there are hundreds of reviews, i had ...     5.0    0.0  "
      ]
     },
     "execution_count": 27,
     "metadata": {},
     "output_type": "execute_result"
    }
   ],
   "source": [
    "# 应用映射到意外发现数据\n",
    "seren_df_mapped = serenbooks_df.copy()\n",
    "seren_df_mapped['user_id'] = seren_df_mapped['user_id'].map(user_id_map)\n",
    "seren_df_mapped['item_id'] = seren_df_mapped['item_id'].map(item_id_map)\n",
    "seren_df_mapped.head()"
   ]
  },
  {
   "cell_type": "code",
   "execution_count": 28,
   "metadata": {},
   "outputs": [
    {
     "data": {
      "text/html": [
       "<div>\n",
       "<style scoped>\n",
       "    .dataframe tbody tr th:only-of-type {\n",
       "        vertical-align: middle;\n",
       "    }\n",
       "\n",
       "    .dataframe tbody tr th {\n",
       "        vertical-align: top;\n",
       "    }\n",
       "\n",
       "    .dataframe thead th {\n",
       "        text-align: right;\n",
       "    }\n",
       "</style>\n",
       "<table border=\"1\" class=\"dataframe\">\n",
       "  <thead>\n",
       "    <tr style=\"text-align: right;\">\n",
       "      <th></th>\n",
       "      <th>asin</th>\n",
       "      <th>salesRank</th>\n",
       "      <th>imUrl</th>\n",
       "      <th>categories</th>\n",
       "      <th>title</th>\n",
       "      <th>description</th>\n",
       "      <th>price</th>\n",
       "      <th>related</th>\n",
       "      <th>brand</th>\n",
       "    </tr>\n",
       "  </thead>\n",
       "  <tbody>\n",
       "    <tr>\n",
       "      <th>0</th>\n",
       "      <td>0001048791</td>\n",
       "      <td>{'Books': 6334800}</td>\n",
       "      <td>http://ecx.images-amazon.com/images/I/51MKP0T4...</td>\n",
       "      <td>[[Books]]</td>\n",
       "      <td>The Crucible: Performed by Stuart Pankin, Jero...</td>\n",
       "      <td>NaN</td>\n",
       "      <td>NaN</td>\n",
       "      <td>NaN</td>\n",
       "      <td>NaN</td>\n",
       "    </tr>\n",
       "    <tr>\n",
       "      <th>1</th>\n",
       "      <td>0001048775</td>\n",
       "      <td>{'Books': 13243226}</td>\n",
       "      <td>http://ecx.images-amazon.com/images/I/5166EBHD...</td>\n",
       "      <td>[[Books]]</td>\n",
       "      <td>Measure for Measure: Complete &amp;amp; Unabridged</td>\n",
       "      <td>William Shakespeare is widely regarded as the ...</td>\n",
       "      <td>NaN</td>\n",
       "      <td>NaN</td>\n",
       "      <td>NaN</td>\n",
       "    </tr>\n",
       "    <tr>\n",
       "      <th>2</th>\n",
       "      <td>0001048236</td>\n",
       "      <td>{'Books': 8973864}</td>\n",
       "      <td>http://ecx.images-amazon.com/images/I/51DH145C...</td>\n",
       "      <td>[[Books]]</td>\n",
       "      <td>The Sherlock Holmes Audio Collection</td>\n",
       "      <td>&amp;#34;One thing is certain, Sherlockians, put a...</td>\n",
       "      <td>9.26</td>\n",
       "      <td>{'also_viewed': ['1442300191', '9626349786', '...</td>\n",
       "      <td>NaN</td>\n",
       "    </tr>\n",
       "    <tr>\n",
       "      <th>3</th>\n",
       "      <td>0000401048</td>\n",
       "      <td>{'Books': 6448843}</td>\n",
       "      <td>http://ecx.images-amazon.com/images/I/41bchvIf...</td>\n",
       "      <td>[[Books]]</td>\n",
       "      <td>The rogue of publishers' row;: Confessions of ...</td>\n",
       "      <td>NaN</td>\n",
       "      <td>NaN</td>\n",
       "      <td>{'also_viewed': ['068240103X']}</td>\n",
       "      <td>NaN</td>\n",
       "    </tr>\n",
       "    <tr>\n",
       "      <th>4</th>\n",
       "      <td>0001019880</td>\n",
       "      <td>{'Books': 9589258}</td>\n",
       "      <td>http://ecx.images-amazon.com/images/I/61LcHUdv...</td>\n",
       "      <td>[[Books]]</td>\n",
       "      <td>Classic Soul Winner's New Testament Bible</td>\n",
       "      <td>NaN</td>\n",
       "      <td>5.39</td>\n",
       "      <td>{'also_viewed': ['B003HMB5FC', '0834004593'], ...</td>\n",
       "      <td>NaN</td>\n",
       "    </tr>\n",
       "  </tbody>\n",
       "</table>\n",
       "</div>"
      ],
      "text/plain": [
       "         asin            salesRank  \\\n",
       "0  0001048791   {'Books': 6334800}   \n",
       "1  0001048775  {'Books': 13243226}   \n",
       "2  0001048236   {'Books': 8973864}   \n",
       "3  0000401048   {'Books': 6448843}   \n",
       "4  0001019880   {'Books': 9589258}   \n",
       "\n",
       "                                               imUrl categories  \\\n",
       "0  http://ecx.images-amazon.com/images/I/51MKP0T4...  [[Books]]   \n",
       "1  http://ecx.images-amazon.com/images/I/5166EBHD...  [[Books]]   \n",
       "2  http://ecx.images-amazon.com/images/I/51DH145C...  [[Books]]   \n",
       "3  http://ecx.images-amazon.com/images/I/41bchvIf...  [[Books]]   \n",
       "4  http://ecx.images-amazon.com/images/I/61LcHUdv...  [[Books]]   \n",
       "\n",
       "                                               title  \\\n",
       "0  The Crucible: Performed by Stuart Pankin, Jero...   \n",
       "1     Measure for Measure: Complete &amp; Unabridged   \n",
       "2               The Sherlock Holmes Audio Collection   \n",
       "3  The rogue of publishers' row;: Confessions of ...   \n",
       "4          Classic Soul Winner's New Testament Bible   \n",
       "\n",
       "                                         description  price  \\\n",
       "0                                                NaN    NaN   \n",
       "1  William Shakespeare is widely regarded as the ...    NaN   \n",
       "2  &#34;One thing is certain, Sherlockians, put a...   9.26   \n",
       "3                                                NaN    NaN   \n",
       "4                                                NaN   5.39   \n",
       "\n",
       "                                             related brand  \n",
       "0                                                NaN   NaN  \n",
       "1                                                NaN   NaN  \n",
       "2  {'also_viewed': ['1442300191', '9626349786', '...   NaN  \n",
       "3                    {'also_viewed': ['068240103X']}   NaN  \n",
       "4  {'also_viewed': ['B003HMB5FC', '0834004593'], ...   NaN  "
      ]
     },
     "execution_count": 28,
     "metadata": {},
     "output_type": "execute_result"
    }
   ],
   "source": [
    "meta_df = pd.DataFrame(metainfo)\n",
    "meta_df.head()"
   ]
  },
  {
   "cell_type": "code",
   "execution_count": 29,
   "metadata": {},
   "outputs": [],
   "source": [
    "# 应用映射到电影元数据\n",
    "meta_df_mapped = meta_df.copy()\n",
    "# 只保留出现在交互数据中的电影\n",
    "meta_df_mapped = meta_df_mapped[meta_df_mapped['asin'].isin(unique_item_ids)]\n",
    "meta_df_mapped['item_id'] = meta_df_mapped['asin'].map(item_id_map)"
   ]
  },
  {
   "cell_type": "code",
   "execution_count": 30,
   "metadata": {},
   "outputs": [],
   "source": [
    "filtered_interactions_mapped['timestamp'] = filtered_interactions_mapped['unixReviewTime']"
   ]
  },
  {
   "cell_type": "code",
   "execution_count": 31,
   "metadata": {},
   "outputs": [],
   "source": [
    "filtered_interactions_mapped['rating'] = filtered_interactions_mapped['overall']"
   ]
  },
  {
   "cell_type": "code",
   "execution_count": 32,
   "metadata": {},
   "outputs": [
    {
     "name": "stdout",
     "output_type": "stream",
     "text": [
      "映射后的交互数据: (2940484, 13)\n",
      "映射后的用户数: 152776\n",
      "映射后的item数: 65631\n"
     ]
    }
   ],
   "source": [
    "# 5. 按时间戳排序，为每个用户构建交互序列\n",
    "filtered_interactions_mapped = filtered_interactions_mapped.sort_values(['user_id', 'timestamp'])\n",
    "\n",
    "# 6. 检查映射后的数据\n",
    "print(f\"映射后的交互数据: {filtered_interactions_mapped.shape}\")\n",
    "print(f\"映射后的用户数: {len(filtered_interactions_mapped['user_id'].unique())}\")\n",
    "print(f\"映射后的item数: {len(filtered_interactions_mapped['item_id'].unique())}\")"
   ]
  },
  {
   "cell_type": "code",
   "execution_count": 33,
   "metadata": {},
   "outputs": [
    {
     "name": "stdout",
     "output_type": "stream",
     "text": [
      "Density: 0.03%\n"
     ]
    }
   ],
   "source": [
    "density  = filtered_interactions_mapped.shape[0] / (len(filtered_interactions_mapped['user_id'].unique()) * len(filtered_interactions_mapped['item_id'].unique()))\n",
    "print(f\"Density: {density * 100:.2f}%\")"
   ]
  },
  {
   "cell_type": "code",
   "execution_count": 34,
   "metadata": {},
   "outputs": [
    {
     "data": {
      "text/html": [
       "<div>\n",
       "<style scoped>\n",
       "    .dataframe tbody tr th:only-of-type {\n",
       "        vertical-align: middle;\n",
       "    }\n",
       "\n",
       "    .dataframe tbody tr th {\n",
       "        vertical-align: top;\n",
       "    }\n",
       "\n",
       "    .dataframe thead th {\n",
       "        text-align: right;\n",
       "    }\n",
       "</style>\n",
       "<table border=\"1\" class=\"dataframe\">\n",
       "  <thead>\n",
       "    <tr style=\"text-align: right;\">\n",
       "      <th></th>\n",
       "      <th>user_id</th>\n",
       "      <th>item_id</th>\n",
       "      <th>timestamp</th>\n",
       "      <th>review</th>\n",
       "      <th>rating</th>\n",
       "      <th>label</th>\n",
       "    </tr>\n",
       "  </thead>\n",
       "  <tbody>\n",
       "    <tr>\n",
       "      <th>0</th>\n",
       "      <td>18002.0</td>\n",
       "      <td>935.0</td>\n",
       "      <td>1196899200</td>\n",
       "      <td>i have always loved this book.  plath's litera...</td>\n",
       "      <td>5.0</td>\n",
       "      <td>0.0</td>\n",
       "    </tr>\n",
       "    <tr>\n",
       "      <th>1</th>\n",
       "      <td>18002.0</td>\n",
       "      <td>NaN</td>\n",
       "      <td>1199750400</td>\n",
       "      <td>assia is infamous for being the woman who ende...</td>\n",
       "      <td>4.0</td>\n",
       "      <td>0.0</td>\n",
       "    </tr>\n",
       "    <tr>\n",
       "      <th>2</th>\n",
       "      <td>18002.0</td>\n",
       "      <td>12693.0</td>\n",
       "      <td>1212624000</td>\n",
       "      <td>because i am a fan of the show, i sought out t...</td>\n",
       "      <td>3.0</td>\n",
       "      <td>0.0</td>\n",
       "    </tr>\n",
       "    <tr>\n",
       "      <th>3</th>\n",
       "      <td>18002.0</td>\n",
       "      <td>9395.0</td>\n",
       "      <td>1212969600</td>\n",
       "      <td>erik larson took on quite a task with this wor...</td>\n",
       "      <td>5.0</td>\n",
       "      <td>0.0</td>\n",
       "    </tr>\n",
       "    <tr>\n",
       "      <th>4</th>\n",
       "      <td>18002.0</td>\n",
       "      <td>3457.0</td>\n",
       "      <td>1215043200</td>\n",
       "      <td>although there are hundreds of reviews, i had ...</td>\n",
       "      <td>5.0</td>\n",
       "      <td>0.0</td>\n",
       "    </tr>\n",
       "  </tbody>\n",
       "</table>\n",
       "</div>"
      ],
      "text/plain": [
       "   user_id  item_id   timestamp  \\\n",
       "0  18002.0    935.0  1196899200   \n",
       "1  18002.0      NaN  1199750400   \n",
       "2  18002.0  12693.0  1212624000   \n",
       "3  18002.0   9395.0  1212969600   \n",
       "4  18002.0   3457.0  1215043200   \n",
       "\n",
       "                                              review  rating  label  \n",
       "0  i have always loved this book.  plath's litera...     5.0    0.0  \n",
       "1  assia is infamous for being the woman who ende...     4.0    0.0  \n",
       "2  because i am a fan of the show, i sought out t...     3.0    0.0  \n",
       "3  erik larson took on quite a task with this wor...     5.0    0.0  \n",
       "4  although there are hundreds of reviews, i had ...     5.0    0.0  "
      ]
     },
     "execution_count": 34,
     "metadata": {},
     "output_type": "execute_result"
    }
   ],
   "source": [
    "seren_df_mapped.head()"
   ]
  },
  {
   "cell_type": "code",
   "execution_count": 35,
   "metadata": {},
   "outputs": [
    {
     "data": {
      "text/html": [
       "<div>\n",
       "<style scoped>\n",
       "    .dataframe tbody tr th:only-of-type {\n",
       "        vertical-align: middle;\n",
       "    }\n",
       "\n",
       "    .dataframe tbody tr th {\n",
       "        vertical-align: top;\n",
       "    }\n",
       "\n",
       "    .dataframe thead th {\n",
       "        text-align: right;\n",
       "    }\n",
       "</style>\n",
       "<table border=\"1\" class=\"dataframe\">\n",
       "  <thead>\n",
       "    <tr style=\"text-align: right;\">\n",
       "      <th></th>\n",
       "      <th>reviewerID</th>\n",
       "      <th>asin</th>\n",
       "      <th>reviewerName</th>\n",
       "      <th>helpful</th>\n",
       "      <th>reviewText</th>\n",
       "      <th>overall</th>\n",
       "      <th>summary</th>\n",
       "      <th>unixReviewTime</th>\n",
       "      <th>reviewTime</th>\n",
       "      <th>user_id</th>\n",
       "      <th>item_id</th>\n",
       "      <th>timestamp</th>\n",
       "      <th>rating</th>\n",
       "    </tr>\n",
       "  </thead>\n",
       "  <tbody>\n",
       "    <tr>\n",
       "      <th>3023832</th>\n",
       "      <td>A29TRDMK51GKZR</td>\n",
       "      <td>1442341165</td>\n",
       "      <td>Alpine Plume</td>\n",
       "      <td>[0, 7]</td>\n",
       "      <td>Don't waste your time or money on this juvenil...</td>\n",
       "      <td>1.0</td>\n",
       "      <td>Waste of time just like her \"Why Not\" show</td>\n",
       "      <td>1343692800</td>\n",
       "      <td>07 31, 2012</td>\n",
       "      <td>1</td>\n",
       "      <td>30115</td>\n",
       "      <td>1343692800</td>\n",
       "      <td>1.0</td>\n",
       "    </tr>\n",
       "    <tr>\n",
       "      <th>410275</th>\n",
       "      <td>A29TRDMK51GKZR</td>\n",
       "      <td>0143144006</td>\n",
       "      <td>Alpine Plume</td>\n",
       "      <td>[0, 0]</td>\n",
       "      <td>Excellant first hand account by a scientist wh...</td>\n",
       "      <td>5.0</td>\n",
       "      <td>Review of My Stroke of Insight</td>\n",
       "      <td>1360713600</td>\n",
       "      <td>02 13, 2013</td>\n",
       "      <td>1</td>\n",
       "      <td>3959</td>\n",
       "      <td>1360713600</td>\n",
       "      <td>5.0</td>\n",
       "    </tr>\n",
       "    <tr>\n",
       "      <th>1802831</th>\n",
       "      <td>A29TRDMK51GKZR</td>\n",
       "      <td>0679723951</td>\n",
       "      <td>Alpine Plume</td>\n",
       "      <td>[0, 1]</td>\n",
       "      <td>Chose this because it was written by Jung hims...</td>\n",
       "      <td>5.0</td>\n",
       "      <td>Jung's Own Words</td>\n",
       "      <td>1364515200</td>\n",
       "      <td>03 29, 2013</td>\n",
       "      <td>1</td>\n",
       "      <td>17110</td>\n",
       "      <td>1364515200</td>\n",
       "      <td>5.0</td>\n",
       "    </tr>\n",
       "    <tr>\n",
       "      <th>623636</th>\n",
       "      <td>A29TRDMK51GKZR</td>\n",
       "      <td>0312082622</td>\n",
       "      <td>Alpine Plume</td>\n",
       "      <td>[0, 1]</td>\n",
       "      <td>Great book written about a woman by a woman.Fi...</td>\n",
       "      <td>5.0</td>\n",
       "      <td>Historically accurate without being boring</td>\n",
       "      <td>1368144000</td>\n",
       "      <td>05 10, 2013</td>\n",
       "      <td>1</td>\n",
       "      <td>5783</td>\n",
       "      <td>1368144000</td>\n",
       "      <td>5.0</td>\n",
       "    </tr>\n",
       "    <tr>\n",
       "      <th>1667879</th>\n",
       "      <td>A29TRDMK51GKZR</td>\n",
       "      <td>0615591949</td>\n",
       "      <td>Alpine Plume</td>\n",
       "      <td>[2, 2]</td>\n",
       "      <td>THE BEST !This book really tells it like is fo...</td>\n",
       "      <td>5.0</td>\n",
       "      <td>Simply THE BEST !</td>\n",
       "      <td>1383350400</td>\n",
       "      <td>11 2, 2013</td>\n",
       "      <td>1</td>\n",
       "      <td>15714</td>\n",
       "      <td>1383350400</td>\n",
       "      <td>5.0</td>\n",
       "    </tr>\n",
       "  </tbody>\n",
       "</table>\n",
       "</div>"
      ],
      "text/plain": [
       "             reviewerID        asin  reviewerName helpful  \\\n",
       "3023832  A29TRDMK51GKZR  1442341165  Alpine Plume  [0, 7]   \n",
       "410275   A29TRDMK51GKZR  0143144006  Alpine Plume  [0, 0]   \n",
       "1802831  A29TRDMK51GKZR  0679723951  Alpine Plume  [0, 1]   \n",
       "623636   A29TRDMK51GKZR  0312082622  Alpine Plume  [0, 1]   \n",
       "1667879  A29TRDMK51GKZR  0615591949  Alpine Plume  [2, 2]   \n",
       "\n",
       "                                                reviewText  overall  \\\n",
       "3023832  Don't waste your time or money on this juvenil...      1.0   \n",
       "410275   Excellant first hand account by a scientist wh...      5.0   \n",
       "1802831  Chose this because it was written by Jung hims...      5.0   \n",
       "623636   Great book written about a woman by a woman.Fi...      5.0   \n",
       "1667879  THE BEST !This book really tells it like is fo...      5.0   \n",
       "\n",
       "                                            summary  unixReviewTime  \\\n",
       "3023832  Waste of time just like her \"Why Not\" show      1343692800   \n",
       "410275               Review of My Stroke of Insight      1360713600   \n",
       "1802831                            Jung's Own Words      1364515200   \n",
       "623636   Historically accurate without being boring      1368144000   \n",
       "1667879                           Simply THE BEST !      1383350400   \n",
       "\n",
       "          reviewTime  user_id  item_id   timestamp  rating  \n",
       "3023832  07 31, 2012        1    30115  1343692800     1.0  \n",
       "410275   02 13, 2013        1     3959  1360713600     5.0  \n",
       "1802831  03 29, 2013        1    17110  1364515200     5.0  \n",
       "623636   05 10, 2013        1     5783  1368144000     5.0  \n",
       "1667879   11 2, 2013        1    15714  1383350400     5.0  "
      ]
     },
     "execution_count": 35,
     "metadata": {},
     "output_type": "execute_result"
    }
   ],
   "source": [
    "filtered_interactions_mapped.head()"
   ]
  },
  {
   "cell_type": "code",
   "execution_count": 36,
   "metadata": {},
   "outputs": [
    {
     "name": "stdout",
     "output_type": "stream",
     "text": [
      "数据预处理完成!\n"
     ]
    }
   ],
   "source": [
    "# 7. 保存处理后的数据\n",
    "# 保存主要交互数据\n",
    "filtered_interactions_mapped[['user_id', 'item_id', 'rating', 'timestamp']].to_csv('books/processed_interactions.csv', index=False)\n",
    "\n",
    "# 保存意外发现数据\n",
    "if not seren_df_mapped.empty:\n",
    "    # 确保映射的item_id不是NaN（某些电影可能在过滤后的交互中不存在）\n",
    "    seren_df_mapped = seren_df_mapped.dropna(subset=['user_id', 'item_id'])\n",
    "    seren_df_mapped['serendipity'] = seren_df_mapped['label']\n",
    "    seren_df_mapped[['user_id', 'item_id', 'rating', 'timestamp', 'serendipity']].to_csv('books/processed_serendipity.csv', index=False)\n",
    "\n",
    "# 保存电影元数据\n",
    "meta_df_mapped[['item_id', 'title', 'description']].to_csv('books/processed_books.csv', index=False)\n",
    "\n",
    "print(\"数据预处理完成!\")"
   ]
  },
  {
   "cell_type": "code",
   "execution_count": 37,
   "metadata": {},
   "outputs": [
    {
     "data": {
      "text/plain": [
       "serendipity\n",
       "0.0    125956\n",
       "1.0      1320\n",
       "Name: count, dtype: int64"
      ]
     },
     "execution_count": 37,
     "metadata": {},
     "output_type": "execute_result"
    }
   ],
   "source": [
    "seren_df_mapped['serendipity'].value_counts()"
   ]
  },
  {
   "cell_type": "code",
   "execution_count": 39,
   "metadata": {},
   "outputs": [
    {
     "data": {
      "text/plain": [
       "1977"
      ]
     },
     "execution_count": 39,
     "metadata": {},
     "output_type": "execute_result"
    }
   ],
   "source": [
    "len(seren_df_mapped['user_id'].unique())"
   ]
  },
  {
   "cell_type": "code",
   "execution_count": 38,
   "metadata": {},
   "outputs": [
    {
     "data": {
      "text/plain": [
       "True"
      ]
     },
     "execution_count": 38,
     "metadata": {},
     "output_type": "execute_result"
    }
   ],
   "source": [
    "set(seren_df_mapped['user_id'].unique().tolist()) < set(filtered_interactions_mapped['user_id'].unique().tolist())"
   ]
  },
  {
   "cell_type": "code",
   "execution_count": 40,
   "metadata": {},
   "outputs": [
    {
     "data": {
      "text/plain": [
       "2940484"
      ]
     },
     "execution_count": 40,
     "metadata": {},
     "output_type": "execute_result"
    }
   ],
   "source": [
    "len(filtered_interactions_mapped)"
   ]
  }
 ],
 "metadata": {
  "kernelspec": {
   "display_name": "serenrec",
   "language": "python",
   "name": "python3"
  },
  "language_info": {
   "codemirror_mode": {
    "name": "ipython",
    "version": 3
   },
   "file_extension": ".py",
   "mimetype": "text/x-python",
   "name": "python",
   "nbconvert_exporter": "python",
   "pygments_lexer": "ipython3",
   "version": "3.12.9"
  }
 },
 "nbformat": 4,
 "nbformat_minor": 2
}
