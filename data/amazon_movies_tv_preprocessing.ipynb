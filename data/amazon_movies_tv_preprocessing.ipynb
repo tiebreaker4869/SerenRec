{
 "cells": [
  {
   "cell_type": "code",
   "execution_count": 1,
   "metadata": {},
   "outputs": [],
   "source": [
    "import pandas as pd\n",
    "import numpy as np\n",
    "import gzip"
   ]
  },
  {
   "cell_type": "code",
   "execution_count": 2,
   "metadata": {},
   "outputs": [],
   "source": [
    "def parse(path):\n",
    "  g = gzip.open(path, 'r')\n",
    "  for l in g:\n",
    "    yield eval(l)"
   ]
  },
  {
   "cell_type": "code",
   "execution_count": 3,
   "metadata": {},
   "outputs": [
    {
     "name": "stdout",
     "output_type": "stream",
     "text": [
      "日期: 2012-01-01 00:00:00\n",
      "时间戳: 1325404800.0\n"
     ]
    }
   ],
   "source": [
    "from datetime import datetime\n",
    "\n",
    "# 定义日期字符串和对应的格式\n",
    "date_str = \"2012-01-01 00:00:00\"\n",
    "date_format = \"%Y-%m-%d %H:%M:%S\"\n",
    "\n",
    "# 将字符串解析为 datetime 对象\n",
    "dt = datetime.strptime(date_str, date_format)\n",
    "\n",
    "timestamp = dt.timestamp()\n",
    "\n",
    "print(\"日期:\", dt)\n",
    "print(\"时间戳:\", timestamp)"
   ]
  },
  {
   "cell_type": "code",
   "execution_count": 6,
   "metadata": {},
   "outputs": [],
   "source": [
    "path = \"reviews_Movies_and_TV_5.json.gz\""
   ]
  },
  {
   "cell_type": "code",
   "execution_count": 7,
   "metadata": {},
   "outputs": [
    {
     "data": {
      "text/plain": [
       "({'reviewerID': 'A35947ZP82G7JH',\n",
       "  'asin': '0005019281',\n",
       "  'reviewerName': 'Amarah Strack',\n",
       "  'helpful': [0, 0],\n",
       "  'reviewText': 'It was good but not as emotionally moving as the the Christmas Carol by Dickens  I like Christmas movies that make me sigh',\n",
       "  'overall': 3.0,\n",
       "  'summary': 'Good but not as moving',\n",
       "  'unixReviewTime': 1388361600,\n",
       "  'reviewTime': '12 30, 2013'},\n",
       " 790050)"
      ]
     },
     "execution_count": 7,
     "metadata": {},
     "output_type": "execute_result"
    }
   ],
   "source": [
    "reviews = [r for r in parse(path) if r['unixReviewTime'] > timestamp]\n",
    "reviews[0], len(reviews)"
   ]
  },
  {
   "cell_type": "code",
   "execution_count": 8,
   "metadata": {},
   "outputs": [],
   "source": [
    "meta_path = 'meta_Movies_and_TV.json.gz'"
   ]
  },
  {
   "cell_type": "code",
   "execution_count": 9,
   "metadata": {},
   "outputs": [
    {
     "data": {
      "text/plain": [
       "{'asin': '0000143561',\n",
       " 'categories': [['Movies & TV', 'Movies']],\n",
       " 'description': '3Pack DVD set - Italian Classics, Parties and Holidays.',\n",
       " 'title': 'Everyday Italian (with Giada de Laurentiis), Volume 1 (3 Pack): Italian Classics, Parties, Holidays',\n",
       " 'price': 12.99,\n",
       " 'salesRank': {'Movies & TV': 376041},\n",
       " 'imUrl': 'http://g-ecx.images-amazon.com/images/G/01/x-site/icons/no-img-sm._CB192198896_.gif',\n",
       " 'related': {'also_viewed': ['B0036FO6SI',\n",
       "   'B000KL8ODE',\n",
       "   '000014357X',\n",
       "   'B0037718RC',\n",
       "   'B002I5GNVU',\n",
       "   'B000RBU4BM'],\n",
       "  'buy_after_viewing': ['B0036FO6SI',\n",
       "   'B000KL8ODE',\n",
       "   '000014357X',\n",
       "   'B0037718RC']}}"
      ]
     },
     "execution_count": 9,
     "metadata": {},
     "output_type": "execute_result"
    }
   ],
   "source": [
    "metainfo = [m for m in parse(meta_path)]\n",
    "metainfo[0]"
   ]
  },
  {
   "cell_type": "code",
   "execution_count": 10,
   "metadata": {},
   "outputs": [
    {
     "data": {
      "text/html": [
       "<div>\n",
       "<style scoped>\n",
       "    .dataframe tbody tr th:only-of-type {\n",
       "        vertical-align: middle;\n",
       "    }\n",
       "\n",
       "    .dataframe tbody tr th {\n",
       "        vertical-align: top;\n",
       "    }\n",
       "\n",
       "    .dataframe thead th {\n",
       "        text-align: right;\n",
       "    }\n",
       "</style>\n",
       "<table border=\"1\" class=\"dataframe\">\n",
       "  <thead>\n",
       "    <tr style=\"text-align: right;\">\n",
       "      <th></th>\n",
       "      <th>user_id</th>\n",
       "      <th>item_id</th>\n",
       "      <th>timestamp</th>\n",
       "      <th>review</th>\n",
       "      <th>rating</th>\n",
       "      <th>label</th>\n",
       "    </tr>\n",
       "  </thead>\n",
       "  <tbody>\n",
       "    <tr>\n",
       "      <th>0</th>\n",
       "      <td>a105d0ukk3356e</td>\n",
       "      <td>b018ene3g6</td>\n",
       "      <td>1377993600</td>\n",
       "      <td>during the eighties when saban and dic enterta...</td>\n",
       "      <td>5</td>\n",
       "      <td>0.0</td>\n",
       "    </tr>\n",
       "    <tr>\n",
       "      <th>1</th>\n",
       "      <td>a105d0ukk3356e</td>\n",
       "      <td>b0014faiys</td>\n",
       "      <td>1209686400</td>\n",
       "      <td>the sixth season was always the 'infamous' one...</td>\n",
       "      <td>4</td>\n",
       "      <td>0.0</td>\n",
       "    </tr>\n",
       "    <tr>\n",
       "      <th>2</th>\n",
       "      <td>a105d0ukk3356e</td>\n",
       "      <td>b000nvt0mu</td>\n",
       "      <td>1180483200</td>\n",
       "      <td>first off, i have to give kudos to ink &amp; paint...</td>\n",
       "      <td>5</td>\n",
       "      <td>0.0</td>\n",
       "    </tr>\n",
       "    <tr>\n",
       "      <th>3</th>\n",
       "      <td>a105d0ukk3356e</td>\n",
       "      <td>b00125way6</td>\n",
       "      <td>1204502400</td>\n",
       "      <td>before melissa joan hart, before the dic anima...</td>\n",
       "      <td>5</td>\n",
       "      <td>0.0</td>\n",
       "    </tr>\n",
       "    <tr>\n",
       "      <th>4</th>\n",
       "      <td>a105d0ukk3356e</td>\n",
       "      <td>b005laiib2</td>\n",
       "      <td>1379808000</td>\n",
       "      <td>it's funny how hollywood loves making wedding ...</td>\n",
       "      <td>4</td>\n",
       "      <td>0.0</td>\n",
       "    </tr>\n",
       "  </tbody>\n",
       "</table>\n",
       "</div>"
      ],
      "text/plain": [
       "          user_id     item_id   timestamp  \\\n",
       "0  a105d0ukk3356e  b018ene3g6  1377993600   \n",
       "1  a105d0ukk3356e  b0014faiys  1209686400   \n",
       "2  a105d0ukk3356e  b000nvt0mu  1180483200   \n",
       "3  a105d0ukk3356e  b00125way6  1204502400   \n",
       "4  a105d0ukk3356e  b005laiib2  1379808000   \n",
       "\n",
       "                                              review rating  label  \n",
       "0  during the eighties when saban and dic enterta...      5    0.0  \n",
       "1  the sixth season was always the 'infamous' one...      4    0.0  \n",
       "2  first off, i have to give kudos to ink & paint...      5    0.0  \n",
       "3  before melissa joan hart, before the dic anima...      5    0.0  \n",
       "4  it's funny how hollywood loves making wedding ...      4    0.0  "
      ]
     },
     "execution_count": 10,
     "metadata": {},
     "output_type": "execute_result"
    }
   ],
   "source": [
    "serenmovies_df = pd.read_csv(\"SerenLens/Dataset/SerenLens_Movies.csv\")\n",
    "serenmovies_df.head()"
   ]
  },
  {
   "cell_type": "code",
   "execution_count": 11,
   "metadata": {},
   "outputs": [
    {
     "data": {
      "text/plain": [
       "622"
      ]
     },
     "execution_count": 11,
     "metadata": {},
     "output_type": "execute_result"
    }
   ],
   "source": [
    "len(serenmovies_df['user_id'].unique())"
   ]
  },
  {
   "cell_type": "code",
   "execution_count": 14,
   "metadata": {},
   "outputs": [
    {
     "data": {
      "text/plain": [
       "user_id\n",
       " when i started to watch this set i couldn't wait for the next episode. twin peaks holds up as a phenomena that earned it's title       1\n",
       "her at the end                                                                                                                          1\n",
       "a4u5citc1jb05                                                                                                                          10\n",
       "ame7x7ig69skg                                                                                                                          10\n",
       "a1zm45nj4dpg4n                                                                                                                         10\n",
       "                                                                                                                                     ... \n",
       "a2njo6ye954dbh                                                                                                                       1456\n",
       "a1d2c0wdcshuwz                                                                                                                       1491\n",
       "aimr915k4ycn                                                                                                                         1607\n",
       "ancomai0i7lvg                                                                                                                        1655\n",
       "a2edzh51xhfa9b                                                                                                                       1766\n",
       "Name: count, Length: 621, dtype: int64"
      ]
     },
     "execution_count": 14,
     "metadata": {},
     "output_type": "execute_result"
    }
   ],
   "source": [
    "serenmovies_df['user_id'].value_counts(ascending=True)"
   ]
  },
  {
   "cell_type": "code",
   "execution_count": 15,
   "metadata": {},
   "outputs": [
    {
     "data": {
      "text/html": [
       "<div>\n",
       "<style scoped>\n",
       "    .dataframe tbody tr th:only-of-type {\n",
       "        vertical-align: middle;\n",
       "    }\n",
       "\n",
       "    .dataframe tbody tr th {\n",
       "        vertical-align: top;\n",
       "    }\n",
       "\n",
       "    .dataframe thead th {\n",
       "        text-align: right;\n",
       "    }\n",
       "</style>\n",
       "<table border=\"1\" class=\"dataframe\">\n",
       "  <thead>\n",
       "    <tr style=\"text-align: right;\">\n",
       "      <th></th>\n",
       "      <th>reviewerID</th>\n",
       "      <th>asin</th>\n",
       "      <th>reviewerName</th>\n",
       "      <th>helpful</th>\n",
       "      <th>reviewText</th>\n",
       "      <th>overall</th>\n",
       "      <th>summary</th>\n",
       "      <th>unixReviewTime</th>\n",
       "      <th>reviewTime</th>\n",
       "    </tr>\n",
       "  </thead>\n",
       "  <tbody>\n",
       "    <tr>\n",
       "      <th>0</th>\n",
       "      <td>A35947ZP82G7JH</td>\n",
       "      <td>0005019281</td>\n",
       "      <td>Amarah Strack</td>\n",
       "      <td>[0, 0]</td>\n",
       "      <td>It was good but not as emotionally moving as t...</td>\n",
       "      <td>3.0</td>\n",
       "      <td>Good but not as moving</td>\n",
       "      <td>1388361600</td>\n",
       "      <td>12 30, 2013</td>\n",
       "    </tr>\n",
       "    <tr>\n",
       "      <th>1</th>\n",
       "      <td>A3UORV8A9D5L2E</td>\n",
       "      <td>0005019281</td>\n",
       "      <td>Amazon Customer</td>\n",
       "      <td>[0, 0]</td>\n",
       "      <td>Don't get me wrong, Winkler is a wonderful cha...</td>\n",
       "      <td>3.0</td>\n",
       "      <td>Winkler's Performance was ok at best!</td>\n",
       "      <td>1388361600</td>\n",
       "      <td>12 30, 2013</td>\n",
       "    </tr>\n",
       "    <tr>\n",
       "      <th>2</th>\n",
       "      <td>A3R27T4HADWFFJ</td>\n",
       "      <td>0005019281</td>\n",
       "      <td>BABE</td>\n",
       "      <td>[0, 0]</td>\n",
       "      <td>This is one of the best Scrooge movies out.  H...</td>\n",
       "      <td>4.0</td>\n",
       "      <td>Best Scrooge yet</td>\n",
       "      <td>1387670400</td>\n",
       "      <td>12 22, 2013</td>\n",
       "    </tr>\n",
       "    <tr>\n",
       "      <th>3</th>\n",
       "      <td>A2L0G56BNOTX6S</td>\n",
       "      <td>0005019281</td>\n",
       "      <td>barbara whapeles</td>\n",
       "      <td>[0, 0]</td>\n",
       "      <td>This has been a favorite movie of mine for a l...</td>\n",
       "      <td>5.0</td>\n",
       "      <td>Dickens updated.</td>\n",
       "      <td>1383696000</td>\n",
       "      <td>11 6, 2013</td>\n",
       "    </tr>\n",
       "    <tr>\n",
       "      <th>4</th>\n",
       "      <td>AWF2S3UNW9UA0</td>\n",
       "      <td>0005019281</td>\n",
       "      <td>beth holman</td>\n",
       "      <td>[0, 0]</td>\n",
       "      <td>A good Christmas carol dhenry winkler one duri...</td>\n",
       "      <td>5.0</td>\n",
       "      <td>an american christmas carol</td>\n",
       "      <td>1386201600</td>\n",
       "      <td>12 5, 2013</td>\n",
       "    </tr>\n",
       "  </tbody>\n",
       "</table>\n",
       "</div>"
      ],
      "text/plain": [
       "       reviewerID        asin      reviewerName helpful  \\\n",
       "0  A35947ZP82G7JH  0005019281     Amarah Strack  [0, 0]   \n",
       "1  A3UORV8A9D5L2E  0005019281   Amazon Customer  [0, 0]   \n",
       "2  A3R27T4HADWFFJ  0005019281              BABE  [0, 0]   \n",
       "3  A2L0G56BNOTX6S  0005019281  barbara whapeles  [0, 0]   \n",
       "4   AWF2S3UNW9UA0  0005019281       beth holman  [0, 0]   \n",
       "\n",
       "                                          reviewText  overall  \\\n",
       "0  It was good but not as emotionally moving as t...      3.0   \n",
       "1  Don't get me wrong, Winkler is a wonderful cha...      3.0   \n",
       "2  This is one of the best Scrooge movies out.  H...      4.0   \n",
       "3  This has been a favorite movie of mine for a l...      5.0   \n",
       "4  A good Christmas carol dhenry winkler one duri...      5.0   \n",
       "\n",
       "                                 summary  unixReviewTime   reviewTime  \n",
       "0                 Good but not as moving      1388361600  12 30, 2013  \n",
       "1  Winkler's Performance was ok at best!      1388361600  12 30, 2013  \n",
       "2                       Best Scrooge yet      1387670400  12 22, 2013  \n",
       "3                       Dickens updated.      1383696000   11 6, 2013  \n",
       "4            an american christmas carol      1386201600   12 5, 2013  "
      ]
     },
     "execution_count": 15,
     "metadata": {},
     "output_type": "execute_result"
    }
   ],
   "source": [
    "reviews_df = pd.DataFrame(reviews)\n",
    "reviews_df.head()"
   ]
  },
  {
   "cell_type": "code",
   "execution_count": 17,
   "metadata": {},
   "outputs": [],
   "source": [
    "serenmovies_df['user_id'] = serenmovies_df['user_id'].apply(lambda x: str(x).upper())"
   ]
  },
  {
   "cell_type": "code",
   "execution_count": 19,
   "metadata": {},
   "outputs": [],
   "source": [
    "serenmovies_df['item_id'] = serenmovies_df['item_id'].apply(lambda x: str(x).upper())"
   ]
  },
  {
   "cell_type": "code",
   "execution_count": 20,
   "metadata": {},
   "outputs": [
    {
     "data": {
      "text/html": [
       "<div>\n",
       "<style scoped>\n",
       "    .dataframe tbody tr th:only-of-type {\n",
       "        vertical-align: middle;\n",
       "    }\n",
       "\n",
       "    .dataframe tbody tr th {\n",
       "        vertical-align: top;\n",
       "    }\n",
       "\n",
       "    .dataframe thead th {\n",
       "        text-align: right;\n",
       "    }\n",
       "</style>\n",
       "<table border=\"1\" class=\"dataframe\">\n",
       "  <thead>\n",
       "    <tr style=\"text-align: right;\">\n",
       "      <th></th>\n",
       "      <th>user_id</th>\n",
       "      <th>item_id</th>\n",
       "      <th>timestamp</th>\n",
       "      <th>review</th>\n",
       "      <th>rating</th>\n",
       "      <th>label</th>\n",
       "    </tr>\n",
       "  </thead>\n",
       "  <tbody>\n",
       "    <tr>\n",
       "      <th>0</th>\n",
       "      <td>A105D0UKK3356E</td>\n",
       "      <td>B018ENE3G6</td>\n",
       "      <td>1377993600</td>\n",
       "      <td>during the eighties when saban and dic enterta...</td>\n",
       "      <td>5</td>\n",
       "      <td>0.0</td>\n",
       "    </tr>\n",
       "    <tr>\n",
       "      <th>1</th>\n",
       "      <td>A105D0UKK3356E</td>\n",
       "      <td>B0014FAIYS</td>\n",
       "      <td>1209686400</td>\n",
       "      <td>the sixth season was always the 'infamous' one...</td>\n",
       "      <td>4</td>\n",
       "      <td>0.0</td>\n",
       "    </tr>\n",
       "    <tr>\n",
       "      <th>2</th>\n",
       "      <td>A105D0UKK3356E</td>\n",
       "      <td>B000NVT0MU</td>\n",
       "      <td>1180483200</td>\n",
       "      <td>first off, i have to give kudos to ink &amp; paint...</td>\n",
       "      <td>5</td>\n",
       "      <td>0.0</td>\n",
       "    </tr>\n",
       "    <tr>\n",
       "      <th>3</th>\n",
       "      <td>A105D0UKK3356E</td>\n",
       "      <td>B00125WAY6</td>\n",
       "      <td>1204502400</td>\n",
       "      <td>before melissa joan hart, before the dic anima...</td>\n",
       "      <td>5</td>\n",
       "      <td>0.0</td>\n",
       "    </tr>\n",
       "    <tr>\n",
       "      <th>4</th>\n",
       "      <td>A105D0UKK3356E</td>\n",
       "      <td>B005LAIIB2</td>\n",
       "      <td>1379808000</td>\n",
       "      <td>it's funny how hollywood loves making wedding ...</td>\n",
       "      <td>4</td>\n",
       "      <td>0.0</td>\n",
       "    </tr>\n",
       "  </tbody>\n",
       "</table>\n",
       "</div>"
      ],
      "text/plain": [
       "          user_id     item_id   timestamp  \\\n",
       "0  A105D0UKK3356E  B018ENE3G6  1377993600   \n",
       "1  A105D0UKK3356E  B0014FAIYS  1209686400   \n",
       "2  A105D0UKK3356E  B000NVT0MU  1180483200   \n",
       "3  A105D0UKK3356E  B00125WAY6  1204502400   \n",
       "4  A105D0UKK3356E  B005LAIIB2  1379808000   \n",
       "\n",
       "                                              review rating  label  \n",
       "0  during the eighties when saban and dic enterta...      5    0.0  \n",
       "1  the sixth season was always the 'infamous' one...      4    0.0  \n",
       "2  first off, i have to give kudos to ink & paint...      5    0.0  \n",
       "3  before melissa joan hart, before the dic anima...      5    0.0  \n",
       "4  it's funny how hollywood loves making wedding ...      4    0.0  "
      ]
     },
     "execution_count": 20,
     "metadata": {},
     "output_type": "execute_result"
    }
   ],
   "source": [
    "serenmovies_df.head()"
   ]
  },
  {
   "cell_type": "code",
   "execution_count": 21,
   "metadata": {},
   "outputs": [
    {
     "name": "stdout",
     "output_type": "stream",
     "text": [
      "valid users: 69993\n",
      "valid items: 27560\n",
      "filtered interactions: (695787, 9)\n"
     ]
    }
   ],
   "source": [
    "usercount = reviews_df['reviewerID'].value_counts()\n",
    "itemcount = reviews_df['asin'].value_counts()\n",
    "valid_users = usercount[usercount >= 5].index\n",
    "valid_items = itemcount[itemcount >= 5].index\n",
    "seren_users = serenmovies_df['user_id'].unique()\n",
    "filtered_reviews = reviews_df[reviews_df['reviewerID'].isin(valid_users) & reviews_df['asin'].isin(valid_items)]\n",
    "print(f\"valid users: {len(valid_users)}\")\n",
    "print(f\"valid items: {len(valid_items)}\")\n",
    "print(f\"filtered interactions: {filtered_reviews.shape}\")"
   ]
  },
  {
   "cell_type": "code",
   "execution_count": 22,
   "metadata": {},
   "outputs": [
    {
     "data": {
      "text/plain": [
       "70271"
      ]
     },
     "execution_count": 22,
     "metadata": {},
     "output_type": "execute_result"
    }
   ],
   "source": [
    "all_users = np.union1d(seren_users, valid_users)\n",
    "len(all_users)"
   ]
  },
  {
   "cell_type": "code",
   "execution_count": 23,
   "metadata": {},
   "outputs": [
    {
     "name": "stdout",
     "output_type": "stream",
     "text": [
      "有 278 个用户在serenbooks.csv中但在 reviews 中交互少于 5 次\n"
     ]
    }
   ],
   "source": [
    "missing_users = np.setdiff1d(seren_users, valid_users)\n",
    "if len(missing_users) > 0:\n",
    "    print(f\"有 {len(missing_users)} 个用户在serenbooks.csv中但在 reviews 中交互少于 5 次\")\n",
    "    # 对于这些用户，我们仍然保留他们的所有交互记录\n",
    "    missing_interactions = reviews_df[reviews_df['reviewerID'].isin(missing_users)]\n",
    "    if len(missing_interactions) > 0:\n",
    "        filtered_reviews = pd.concat([filtered_reviews, missing_interactions])"
   ]
  },
  {
   "cell_type": "code",
   "execution_count": 24,
   "metadata": {},
   "outputs": [],
   "source": [
    "unique_user_ids = filtered_reviews['reviewerID'].unique()\n",
    "unique_item_ids = filtered_reviews['asin'].unique()"
   ]
  },
  {
   "cell_type": "code",
   "execution_count": 25,
   "metadata": {},
   "outputs": [],
   "source": [
    "# 创建映射字典\n",
    "user_id_map = {old_id: new_id for new_id, old_id in enumerate(unique_user_ids, 1)}\n",
    "item_id_map = {old_id: new_id for new_id, old_id in enumerate(unique_item_ids, 1)}"
   ]
  },
  {
   "cell_type": "code",
   "execution_count": 26,
   "metadata": {},
   "outputs": [],
   "source": [
    "# 应用映射到交互数据\n",
    "filtered_interactions_mapped = filtered_reviews.copy()\n",
    "filtered_interactions_mapped['user_id'] = filtered_interactions_mapped['reviewerID'].map(user_id_map)\n",
    "filtered_interactions_mapped['item_id'] = filtered_interactions_mapped['asin'].map(item_id_map)"
   ]
  },
  {
   "cell_type": "code",
   "execution_count": 27,
   "metadata": {},
   "outputs": [
    {
     "data": {
      "text/html": [
       "<div>\n",
       "<style scoped>\n",
       "    .dataframe tbody tr th:only-of-type {\n",
       "        vertical-align: middle;\n",
       "    }\n",
       "\n",
       "    .dataframe tbody tr th {\n",
       "        vertical-align: top;\n",
       "    }\n",
       "\n",
       "    .dataframe thead th {\n",
       "        text-align: right;\n",
       "    }\n",
       "</style>\n",
       "<table border=\"1\" class=\"dataframe\">\n",
       "  <thead>\n",
       "    <tr style=\"text-align: right;\">\n",
       "      <th></th>\n",
       "      <th>user_id</th>\n",
       "      <th>item_id</th>\n",
       "      <th>timestamp</th>\n",
       "      <th>review</th>\n",
       "      <th>rating</th>\n",
       "      <th>label</th>\n",
       "    </tr>\n",
       "  </thead>\n",
       "  <tbody>\n",
       "    <tr>\n",
       "      <th>0</th>\n",
       "      <td>70060.0</td>\n",
       "      <td>NaN</td>\n",
       "      <td>1377993600</td>\n",
       "      <td>during the eighties when saban and dic enterta...</td>\n",
       "      <td>5</td>\n",
       "      <td>0.0</td>\n",
       "    </tr>\n",
       "    <tr>\n",
       "      <th>1</th>\n",
       "      <td>70060.0</td>\n",
       "      <td>15216.0</td>\n",
       "      <td>1209686400</td>\n",
       "      <td>the sixth season was always the 'infamous' one...</td>\n",
       "      <td>4</td>\n",
       "      <td>0.0</td>\n",
       "    </tr>\n",
       "    <tr>\n",
       "      <th>2</th>\n",
       "      <td>70060.0</td>\n",
       "      <td>NaN</td>\n",
       "      <td>1180483200</td>\n",
       "      <td>first off, i have to give kudos to ink &amp; paint...</td>\n",
       "      <td>5</td>\n",
       "      <td>0.0</td>\n",
       "    </tr>\n",
       "    <tr>\n",
       "      <th>3</th>\n",
       "      <td>70060.0</td>\n",
       "      <td>NaN</td>\n",
       "      <td>1204502400</td>\n",
       "      <td>before melissa joan hart, before the dic anima...</td>\n",
       "      <td>5</td>\n",
       "      <td>0.0</td>\n",
       "    </tr>\n",
       "    <tr>\n",
       "      <th>4</th>\n",
       "      <td>70060.0</td>\n",
       "      <td>21734.0</td>\n",
       "      <td>1379808000</td>\n",
       "      <td>it's funny how hollywood loves making wedding ...</td>\n",
       "      <td>4</td>\n",
       "      <td>0.0</td>\n",
       "    </tr>\n",
       "  </tbody>\n",
       "</table>\n",
       "</div>"
      ],
      "text/plain": [
       "   user_id  item_id   timestamp  \\\n",
       "0  70060.0      NaN  1377993600   \n",
       "1  70060.0  15216.0  1209686400   \n",
       "2  70060.0      NaN  1180483200   \n",
       "3  70060.0      NaN  1204502400   \n",
       "4  70060.0  21734.0  1379808000   \n",
       "\n",
       "                                              review rating  label  \n",
       "0  during the eighties when saban and dic enterta...      5    0.0  \n",
       "1  the sixth season was always the 'infamous' one...      4    0.0  \n",
       "2  first off, i have to give kudos to ink & paint...      5    0.0  \n",
       "3  before melissa joan hart, before the dic anima...      5    0.0  \n",
       "4  it's funny how hollywood loves making wedding ...      4    0.0  "
      ]
     },
     "execution_count": 27,
     "metadata": {},
     "output_type": "execute_result"
    }
   ],
   "source": [
    "# 应用映射到意外发现数据\n",
    "seren_df_mapped = serenmovies_df.copy()\n",
    "seren_df_mapped['user_id'] = seren_df_mapped['user_id'].map(user_id_map)\n",
    "seren_df_mapped['item_id'] = seren_df_mapped['item_id'].map(item_id_map)\n",
    "seren_df_mapped.head()"
   ]
  },
  {
   "cell_type": "code",
   "execution_count": 28,
   "metadata": {},
   "outputs": [
    {
     "data": {
      "text/html": [
       "<div>\n",
       "<style scoped>\n",
       "    .dataframe tbody tr th:only-of-type {\n",
       "        vertical-align: middle;\n",
       "    }\n",
       "\n",
       "    .dataframe tbody tr th {\n",
       "        vertical-align: top;\n",
       "    }\n",
       "\n",
       "    .dataframe thead th {\n",
       "        text-align: right;\n",
       "    }\n",
       "</style>\n",
       "<table border=\"1\" class=\"dataframe\">\n",
       "  <thead>\n",
       "    <tr style=\"text-align: right;\">\n",
       "      <th></th>\n",
       "      <th>asin</th>\n",
       "      <th>categories</th>\n",
       "      <th>description</th>\n",
       "      <th>title</th>\n",
       "      <th>price</th>\n",
       "      <th>salesRank</th>\n",
       "      <th>imUrl</th>\n",
       "      <th>related</th>\n",
       "      <th>brand</th>\n",
       "    </tr>\n",
       "  </thead>\n",
       "  <tbody>\n",
       "    <tr>\n",
       "      <th>0</th>\n",
       "      <td>0000143561</td>\n",
       "      <td>[[Movies &amp; TV, Movies]]</td>\n",
       "      <td>3Pack DVD set - Italian Classics, Parties and ...</td>\n",
       "      <td>Everyday Italian (with Giada de Laurentiis), V...</td>\n",
       "      <td>12.99</td>\n",
       "      <td>{'Movies &amp; TV': 376041}</td>\n",
       "      <td>http://g-ecx.images-amazon.com/images/G/01/x-s...</td>\n",
       "      <td>{'also_viewed': ['B0036FO6SI', 'B000KL8ODE', '...</td>\n",
       "      <td>NaN</td>\n",
       "    </tr>\n",
       "    <tr>\n",
       "      <th>1</th>\n",
       "      <td>0000589012</td>\n",
       "      <td>[[Movies &amp; TV, Movies]]</td>\n",
       "      <td>NaN</td>\n",
       "      <td>Why Don't They Just Quit? DVD Roundtable Discu...</td>\n",
       "      <td>15.95</td>\n",
       "      <td>{'Movies &amp; TV': 1084845}</td>\n",
       "      <td>http://ecx.images-amazon.com/images/I/519%2B1k...</td>\n",
       "      <td>{'also_bought': ['B000Z3N1HQ', '0578045427', '...</td>\n",
       "      <td>NaN</td>\n",
       "    </tr>\n",
       "    <tr>\n",
       "      <th>2</th>\n",
       "      <td>0000695009</td>\n",
       "      <td>[[Movies &amp; TV, Movies]]</td>\n",
       "      <td>NaN</td>\n",
       "      <td>Understanding Seizures and Epilepsy DVD</td>\n",
       "      <td>NaN</td>\n",
       "      <td>{'Movies &amp; TV': 1022732}</td>\n",
       "      <td>http://g-ecx.images-amazon.com/images/G/01/x-s...</td>\n",
       "      <td>NaN</td>\n",
       "      <td>NaN</td>\n",
       "    </tr>\n",
       "    <tr>\n",
       "      <th>3</th>\n",
       "      <td>000107461X</td>\n",
       "      <td>[[Movies &amp; TV, Movies]]</td>\n",
       "      <td>NaN</td>\n",
       "      <td>Live in Houston [VHS]</td>\n",
       "      <td>NaN</td>\n",
       "      <td>{'Movies &amp; TV': 954116}</td>\n",
       "      <td>http://ecx.images-amazon.com/images/I/41WY47gL...</td>\n",
       "      <td>NaN</td>\n",
       "      <td>NaN</td>\n",
       "    </tr>\n",
       "    <tr>\n",
       "      <th>4</th>\n",
       "      <td>0000143529</td>\n",
       "      <td>[[Movies &amp; TV, Movies]]</td>\n",
       "      <td>Disc 1: Flour Power (Scones; Shortcakes; South...</td>\n",
       "      <td>My Fair Pastry (Good Eats Vol. 9)</td>\n",
       "      <td>19.99</td>\n",
       "      <td>{'Movies &amp; TV': 463562}</td>\n",
       "      <td>http://ecx.images-amazon.com/images/I/51QY79CD...</td>\n",
       "      <td>{'also_bought': ['B000NR4CRM', 'B0019BK3KQ', '...</td>\n",
       "      <td>NaN</td>\n",
       "    </tr>\n",
       "  </tbody>\n",
       "</table>\n",
       "</div>"
      ],
      "text/plain": [
       "         asin               categories  \\\n",
       "0  0000143561  [[Movies & TV, Movies]]   \n",
       "1  0000589012  [[Movies & TV, Movies]]   \n",
       "2  0000695009  [[Movies & TV, Movies]]   \n",
       "3  000107461X  [[Movies & TV, Movies]]   \n",
       "4  0000143529  [[Movies & TV, Movies]]   \n",
       "\n",
       "                                         description  \\\n",
       "0  3Pack DVD set - Italian Classics, Parties and ...   \n",
       "1                                                NaN   \n",
       "2                                                NaN   \n",
       "3                                                NaN   \n",
       "4  Disc 1: Flour Power (Scones; Shortcakes; South...   \n",
       "\n",
       "                                               title  price  \\\n",
       "0  Everyday Italian (with Giada de Laurentiis), V...  12.99   \n",
       "1  Why Don't They Just Quit? DVD Roundtable Discu...  15.95   \n",
       "2            Understanding Seizures and Epilepsy DVD    NaN   \n",
       "3                              Live in Houston [VHS]    NaN   \n",
       "4                  My Fair Pastry (Good Eats Vol. 9)  19.99   \n",
       "\n",
       "                  salesRank  \\\n",
       "0   {'Movies & TV': 376041}   \n",
       "1  {'Movies & TV': 1084845}   \n",
       "2  {'Movies & TV': 1022732}   \n",
       "3   {'Movies & TV': 954116}   \n",
       "4   {'Movies & TV': 463562}   \n",
       "\n",
       "                                               imUrl  \\\n",
       "0  http://g-ecx.images-amazon.com/images/G/01/x-s...   \n",
       "1  http://ecx.images-amazon.com/images/I/519%2B1k...   \n",
       "2  http://g-ecx.images-amazon.com/images/G/01/x-s...   \n",
       "3  http://ecx.images-amazon.com/images/I/41WY47gL...   \n",
       "4  http://ecx.images-amazon.com/images/I/51QY79CD...   \n",
       "\n",
       "                                             related brand  \n",
       "0  {'also_viewed': ['B0036FO6SI', 'B000KL8ODE', '...   NaN  \n",
       "1  {'also_bought': ['B000Z3N1HQ', '0578045427', '...   NaN  \n",
       "2                                                NaN   NaN  \n",
       "3                                                NaN   NaN  \n",
       "4  {'also_bought': ['B000NR4CRM', 'B0019BK3KQ', '...   NaN  "
      ]
     },
     "execution_count": 28,
     "metadata": {},
     "output_type": "execute_result"
    }
   ],
   "source": [
    "meta_df = pd.DataFrame(metainfo)\n",
    "meta_df.head()"
   ]
  },
  {
   "cell_type": "code",
   "execution_count": 29,
   "metadata": {},
   "outputs": [],
   "source": [
    "# 应用映射到电影元数据\n",
    "meta_df_mapped = meta_df.copy()\n",
    "# 只保留出现在交互数据中的电影\n",
    "meta_df_mapped = meta_df_mapped[meta_df_mapped['asin'].isin(unique_item_ids)]\n",
    "meta_df_mapped['item_id'] = meta_df_mapped['asin'].map(item_id_map)"
   ]
  },
  {
   "cell_type": "code",
   "execution_count": 30,
   "metadata": {},
   "outputs": [],
   "source": [
    "filtered_interactions_mapped['timestamp'] = filtered_interactions_mapped['unixReviewTime']"
   ]
  },
  {
   "cell_type": "code",
   "execution_count": 31,
   "metadata": {},
   "outputs": [],
   "source": [
    "filtered_interactions_mapped['rating'] = filtered_interactions_mapped['overall']"
   ]
  },
  {
   "cell_type": "code",
   "execution_count": 32,
   "metadata": {},
   "outputs": [
    {
     "name": "stdout",
     "output_type": "stream",
     "text": [
      "映射后的交互数据: (696017, 13)\n",
      "映射后的用户数: 70082\n",
      "映射后的item数: 27580\n"
     ]
    }
   ],
   "source": [
    "# 5. 按时间戳排序，为每个用户构建交互序列\n",
    "filtered_interactions_mapped = filtered_interactions_mapped.sort_values(['user_id', 'timestamp'])\n",
    "\n",
    "# 6. 检查映射后的数据\n",
    "print(f\"映射后的交互数据: {filtered_interactions_mapped.shape}\")\n",
    "print(f\"映射后的用户数: {len(filtered_interactions_mapped['user_id'].unique())}\")\n",
    "print(f\"映射后的item数: {len(filtered_interactions_mapped['item_id'].unique())}\")"
   ]
  },
  {
   "cell_type": "code",
   "execution_count": 33,
   "metadata": {},
   "outputs": [
    {
     "name": "stdout",
     "output_type": "stream",
     "text": [
      "Density: 0.04%\n"
     ]
    }
   ],
   "source": [
    "density  = filtered_interactions_mapped.shape[0] / (len(filtered_interactions_mapped['user_id'].unique()) * len(filtered_interactions_mapped['item_id'].unique()))\n",
    "print(f\"Density: {density * 100:.2f}%\")"
   ]
  },
  {
   "cell_type": "code",
   "execution_count": 34,
   "metadata": {},
   "outputs": [
    {
     "data": {
      "text/html": [
       "<div>\n",
       "<style scoped>\n",
       "    .dataframe tbody tr th:only-of-type {\n",
       "        vertical-align: middle;\n",
       "    }\n",
       "\n",
       "    .dataframe tbody tr th {\n",
       "        vertical-align: top;\n",
       "    }\n",
       "\n",
       "    .dataframe thead th {\n",
       "        text-align: right;\n",
       "    }\n",
       "</style>\n",
       "<table border=\"1\" class=\"dataframe\">\n",
       "  <thead>\n",
       "    <tr style=\"text-align: right;\">\n",
       "      <th></th>\n",
       "      <th>user_id</th>\n",
       "      <th>item_id</th>\n",
       "      <th>timestamp</th>\n",
       "      <th>review</th>\n",
       "      <th>rating</th>\n",
       "      <th>label</th>\n",
       "    </tr>\n",
       "  </thead>\n",
       "  <tbody>\n",
       "    <tr>\n",
       "      <th>0</th>\n",
       "      <td>70060.0</td>\n",
       "      <td>NaN</td>\n",
       "      <td>1377993600</td>\n",
       "      <td>during the eighties when saban and dic enterta...</td>\n",
       "      <td>5</td>\n",
       "      <td>0.0</td>\n",
       "    </tr>\n",
       "    <tr>\n",
       "      <th>1</th>\n",
       "      <td>70060.0</td>\n",
       "      <td>15216.0</td>\n",
       "      <td>1209686400</td>\n",
       "      <td>the sixth season was always the 'infamous' one...</td>\n",
       "      <td>4</td>\n",
       "      <td>0.0</td>\n",
       "    </tr>\n",
       "    <tr>\n",
       "      <th>2</th>\n",
       "      <td>70060.0</td>\n",
       "      <td>NaN</td>\n",
       "      <td>1180483200</td>\n",
       "      <td>first off, i have to give kudos to ink &amp; paint...</td>\n",
       "      <td>5</td>\n",
       "      <td>0.0</td>\n",
       "    </tr>\n",
       "    <tr>\n",
       "      <th>3</th>\n",
       "      <td>70060.0</td>\n",
       "      <td>NaN</td>\n",
       "      <td>1204502400</td>\n",
       "      <td>before melissa joan hart, before the dic anima...</td>\n",
       "      <td>5</td>\n",
       "      <td>0.0</td>\n",
       "    </tr>\n",
       "    <tr>\n",
       "      <th>4</th>\n",
       "      <td>70060.0</td>\n",
       "      <td>21734.0</td>\n",
       "      <td>1379808000</td>\n",
       "      <td>it's funny how hollywood loves making wedding ...</td>\n",
       "      <td>4</td>\n",
       "      <td>0.0</td>\n",
       "    </tr>\n",
       "  </tbody>\n",
       "</table>\n",
       "</div>"
      ],
      "text/plain": [
       "   user_id  item_id   timestamp  \\\n",
       "0  70060.0      NaN  1377993600   \n",
       "1  70060.0  15216.0  1209686400   \n",
       "2  70060.0      NaN  1180483200   \n",
       "3  70060.0      NaN  1204502400   \n",
       "4  70060.0  21734.0  1379808000   \n",
       "\n",
       "                                              review rating  label  \n",
       "0  during the eighties when saban and dic enterta...      5    0.0  \n",
       "1  the sixth season was always the 'infamous' one...      4    0.0  \n",
       "2  first off, i have to give kudos to ink & paint...      5    0.0  \n",
       "3  before melissa joan hart, before the dic anima...      5    0.0  \n",
       "4  it's funny how hollywood loves making wedding ...      4    0.0  "
      ]
     },
     "execution_count": 34,
     "metadata": {},
     "output_type": "execute_result"
    }
   ],
   "source": [
    "seren_df_mapped.head()"
   ]
  },
  {
   "cell_type": "code",
   "execution_count": 36,
   "metadata": {},
   "outputs": [
    {
     "name": "stdout",
     "output_type": "stream",
     "text": [
      "数据预处理完成!\n"
     ]
    }
   ],
   "source": [
    "# 7. 保存处理后的数据\n",
    "# 保存主要交互数据\n",
    "filtered_interactions_mapped[['user_id', 'item_id', 'rating', 'timestamp']].to_csv('moviestv/processed_interactions.csv', index=False)\n",
    "\n",
    "# 保存意外发现数据\n",
    "if not seren_df_mapped.empty:\n",
    "    # 确保映射的item_id不是NaN（某些电影可能在过滤后的交互中不存在）\n",
    "    seren_df_mapped = seren_df_mapped.dropna(subset=['user_id', 'item_id'])\n",
    "    seren_df_mapped['serendipity'] = seren_df_mapped['label']\n",
    "    seren_df_mapped[['user_id', 'item_id', 'rating', 'timestamp', 'serendipity']].to_csv('moviestv/processed_serendipity.csv', index=False)\n",
    "\n",
    "# 保存电影元数据\n",
    "meta_df_mapped[['item_id', 'title', 'description']].to_csv('moviestv/processed_movies.csv', index=False)\n",
    "\n",
    "print(\"数据预处理完成!\")"
   ]
  }
 ],
 "metadata": {
  "kernelspec": {
   "display_name": "serenrec",
   "language": "python",
   "name": "python3"
  },
  "language_info": {
   "codemirror_mode": {
    "name": "ipython",
    "version": 3
   },
   "file_extension": ".py",
   "mimetype": "text/x-python",
   "name": "python",
   "nbconvert_exporter": "python",
   "pygments_lexer": "ipython3",
   "version": "3.12.9"
  }
 },
 "nbformat": 4,
 "nbformat_minor": 2
}
